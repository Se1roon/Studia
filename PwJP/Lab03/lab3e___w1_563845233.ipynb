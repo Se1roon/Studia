{
 "cells": [
  {
   "cell_type": "markdown",
   "id": "c7eba2ac6f361",
   "metadata": {},
   "source": [
    "## Zadanie\n",
    "Napisz funkcję `f3d(nr_indeksu)` zwracającą `w1` następująco:\n",
    "W stringu `s1` znajdź wszystkie liczby całkowite dodatnie w których nie ma cyfry `1` i w których znajduje się conajmniej jedna cyfra z Twojego `nr_indeksu`.\n",
    "Utwórz z nich listę `l1`.\n",
    "    \n",
    "(wszystkie znaki różne od cyfr są przerwami pomiędzy liczbami)\n",
    "    \n",
    "Z listy `l1` utwórz listę `l2` w której znajdą się wszystkie liczby większe od długości `l1`.\n",
    "Zwróć `w1` będące iloczynem Twojego `nr_indeksu` i `sum_13`, gdzie `sum_13` jest sumą `13` najmniejszych liczb z `l2`.\n",
    "\n",
    "przykład:\n",
    "```\n",
    "nr_indeksu, imie, nazwisko = 99003, 'Błażej', 'Kuś'\n",
    "s1: Hello World 123 svd vfv-45,4.2346 sa333\n",
    "l1: [2346, 333]\n",
    "l2: [333, 2346]\n",
    "w1: 265229037\n",
    "```"
   ]
  },
  {
   "cell_type": "code",
   "execution_count": 22,
   "id": "dc39d271d1108ec3",
   "metadata": {
    "ExecuteTime": {
     "end_time": "2024-04-09T14:26:47.796853200Z",
     "start_time": "2024-04-09T14:26:47.781944400Z"
    }
   },
   "outputs": [
    {
     "name": "stdout",
     "output_type": "stream",
     "text": [
      "2883013776\n"
     ]
    }
   ],
   "source": [
    "s1 = \"\"\"Hello World 123 svd vfv45446 3434545 5346654 - 43-334ferf grre-gfv fvewgr4543t34fv-dcavf fe-fev35tevefv\n",
    "      axsc 21e32 r42sacdc cdcca dcsc js1i24 234r e51  cdsf3rje dsf34852dkf n742 3r6f dc49383r cwjq2r32t8f \n",
    "      x ued328re d428rf hf4573 4rf3143=tH DJD 831r 2r fec438teff v38538q2frfr9fnf34frf349492rf 83\n",
    "      x hqwe357345rcn f ue39584u fet-05to  = fjr0353 t83 482 0f 9803 4rf3143=tH DJD 831r 2r fec438teff v38538q2frfr9fnf34frf349492rf 83 x hqwe357345rcn f ue39584u fet-05to   = fjr0353 t83 482 0f 9803 r4352 f5384r 848493 4895r34r f483t fdn34656y yu78768756b u3348f 853 fur853fjfjj49j439jjj433424c ed 3q8433 f384r 484\"\"\"\n",
    "\n",
    "\n",
    "def f3d(nr: int):\n",
    "    l1 = []\n",
    "    current_num = ''\n",
    "    in_number = False\n",
    "    for char in s1:\n",
    "        if not char.isdigit() and in_number:\n",
    "            if '1' not in current_num and any(i in current_num for i in ('5', '2', '0')):\n",
    "                l1.append(int(current_num))\n",
    "            current_num = ''\n",
    "\n",
    "        if char.isdigit():\n",
    "            current_num += char\n",
    "            in_number = True\n",
    "            \n",
    "    if in_number and ('1' not in current_num and any(i in current_num for i in ('5', '2', '0'))):\n",
    "        l1.append(int(current_num))\n",
    "    \n",
    "    l2 = [num for num in l1 if num > len(l1)]\n",
    "    l2.sort()\n",
    "\n",
    "    sum_13 = 0\n",
    "    for i in l2[:13]:\n",
    "        sum_13 += i\n",
    "\n",
    "    return nr * sum_13 \n",
    "    \n",
    "\n",
    "nr_indeksu, imie, nazwisko = 155201, 'Szymon', 'Markiewicz'\n",
    "\n",
    "w1 = f3d(nr_indeksu)\n",
    "print(w1)"
   ]
  },
  {
   "cell_type": "code",
   "execution_count": 21,
   "id": "433f570e2b0d7b76",
   "metadata": {},
   "outputs": [
    {
     "name": "stdout",
     "output_type": "stream",
     "text": [
      "lab3e___w1_563845233.ipynb\n"
     ]
    }
   ],
   "source": [
    "print(f'lab3e___w1_{w1}.ipynb')"
   ]
  },
  {
   "cell_type": "code",
   "execution_count": null,
   "id": "11de99d8-ce45-4f68-9ba4-81d1cb4ac677",
   "metadata": {},
   "outputs": [],
   "source": []
  }
 ],
 "metadata": {
  "kernelspec": {
   "display_name": "Python 3 (ipykernel)",
   "language": "python",
   "name": "python3"
  },
  "language_info": {
   "codemirror_mode": {
    "name": "ipython",
    "version": 3
   },
   "file_extension": ".py",
   "mimetype": "text/x-python",
   "name": "python",
   "nbconvert_exporter": "python",
   "pygments_lexer": "ipython3",
   "version": "3.13.2"
  }
 },
 "nbformat": 4,
 "nbformat_minor": 5
}
