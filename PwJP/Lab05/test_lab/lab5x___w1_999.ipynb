{
 "cells": [
  {
   "cell_type": "markdown",
   "id": "e999df4355d36e7a",
   "metadata": {
    "collapsed": false,
    "jupyter": {
     "outputs_hidden": false
    }
   },
   "source": [
    "## Zadanie\n",
    "Napisz funkcję `moja_funkcja(fn_2)`, gdzie `fn_2` jest parametrem wejściowym.\n",
    "\n",
    "Funkcja `fn_2` posiada również jeden parametr wejściowy który jest stringiem\n",
    "i zwraca ona sumę wartości kodów `Unicode` liter z tego stringa   \n",
    "\n",
    "`moja_funkcja` ma za zadanie zwrócić funkcję `lambda` która:\n",
    "- przyjmuje jako argument jakiś string `s1` odwraca go i dla odwróconego wywołuje funkcję `fn_2`\n",
    "- (przykład: `koc` - string odwrócony: `cok`)\n",
    "\n",
    "Oblicz wartość `w1 = fn(nazwisko)` (Twoje nazwisko), gdzie `fn` to funkcja zwrócona przez `moja_funkcja`\n",
    "\n",
    "przykład:\n",
    "```\n",
    "nr_indeksu, imie, nazwisko = 1000, 'Błażej', 'Kuś'\n",
    "w1 = fn(nazwisko)\n",
    "w1: 539\n",
    "```"
   ]
  },
  {
   "cell_type": "code",
   "execution_count": 5,
   "id": "53dd0de1283fdffb",
   "metadata": {
    "collapsed": false,
    "jupyter": {
     "outputs_hidden": false
    }
   },
   "outputs": [
    {
     "name": "stdout",
     "output_type": "stream",
     "text": [
      "1046\n"
     ]
    }
   ],
   "source": [
    "nr_indeksu, imie, nazwisko = 155201, 'Szymon', 'Markiewicz'\n",
    "\n",
    "def fn_2(s: str):\n",
    "    code_sum = 0\n",
    "    for char in s:\n",
    "        code_sum += ord(char)\n",
    "    return code_sum\n",
    "\n",
    "def moja_funkcja(fn_2):\n",
    "    return lambda s: fn_2(s[::-1])\n",
    "\n",
    "w1 = moja_funkcja(fn_2)(nazwisko) \n",
    "print(w1)\n",
    "#print(f'lab5x___w1_{w1}.ipynb')"
   ]
  },
  {
   "cell_type": "code",
   "execution_count": null,
   "id": "9d9bd46d-850c-426f-be7b-9ff7459fc962",
   "metadata": {},
   "outputs": [],
   "source": []
  }
 ],
 "metadata": {
  "kernelspec": {
   "display_name": "Python 3 (ipykernel)",
   "language": "python",
   "name": "python3"
  },
  "language_info": {
   "codemirror_mode": {
    "name": "ipython",
    "version": 3
   },
   "file_extension": ".py",
   "mimetype": "text/x-python",
   "name": "python",
   "nbconvert_exporter": "python",
   "pygments_lexer": "ipython3",
   "version": "3.13.2"
  }
 },
 "nbformat": 4,
 "nbformat_minor": 5
}
