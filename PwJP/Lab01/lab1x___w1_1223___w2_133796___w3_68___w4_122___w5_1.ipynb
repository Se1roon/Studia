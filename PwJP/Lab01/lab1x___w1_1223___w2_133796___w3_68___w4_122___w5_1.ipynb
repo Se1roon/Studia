{
 "cells": [
  {
   "cell_type": "markdown",
   "id": "e999df4355d36e7a",
   "metadata": {
    "collapsed": false,
    "jupyter": {
     "outputs_hidden": false
    }
   },
   "source": [
    "## Zadanie\n",
    "Utwórz string `s1` będący powtórzeniem Twojego imienia i nazwiska tyle razy ile wynosi reszta z dzielenia wartości Twojego numeru indeksu przez `99` (jeśli reszta wynosi `0`, to weź resztę z dzielenia przez `999`). Imię i Nazwwisko ma być rozdzielone podkreślnikiem `_` \n",
    "\n",
    "przykład:\n",
    "```\n",
    "nr_indeksu, imie, nazwisko = 102, 'Błażej', 'Kuś'\n",
    "s1: Błażej_Kuś_Błażej_Kuś_Błażej_Kuś\n",
    "```\n",
    "\n",
    "**znajdź:**\n",
    "`w1`: dlugość `s1`\n",
    "\n",
    "Utwórz string `s2` będący kopią `s1` bez pierwszego i ostatniego znaku i zamień w nim wszystkie znaki różne od liter `aeiouyAEIOUY` na literę x\n",
    "\n",
    "`w2`: to suma kodów (Unicode) wszystkich znaków w `s2`\n",
    "\n",
    "`w3`: to liczba wystąpień litery `a` w `s1`\n",
    "\n",
    "`w4`: porównaj (leksykograficznie) stringi  `s1` i `s2` i zwróć Unicode ostatniego znaku mniejszego stringa\n",
    "\n",
    "`w5`: dodaj wynik porównania `w3` z `w4` do pierwszej cyfry Twojego numeru indeksu\n",
    "(uwaga: w tym przypadku to jest porównanie na zasadzie obie wartości są równe albo nie, a nie tak jak dla w4 gdzie jest porównujemy który string jest mniejszy a który większy)  "
   ]
  },
  {
   "cell_type": "code",
   "execution_count": 9,
   "id": "53dd0de1283fdffb",
   "metadata": {},
   "outputs": [
    {
     "name": "stdout",
     "output_type": "stream",
     "text": [
      "w1 = 1223\n",
      "w2 = 141080\n",
      "w3 = 68\n",
      "w4 = 122\n",
      "w5 = 1\n"
     ]
    }
   ],
   "source": [
    "# Podmień wartości poniższych zmiennych na Twoje personalia.\n",
    "# Imie i Nazwisko proszę pisać z polskimi literami i zaczynać od dużej litery.\n",
    "nr_indeksu, imie, nazwisko = 155201, 'Szymon', 'Markiewicz'\n",
    "\n",
    "s1 = (imie + '_' + nazwisko + '_' ) * (nr_indeksu % 99)\n",
    "s1 = s1[:-1]\n",
    "\n",
    "w1 = len(s1)\n",
    "\n",
    "s2 = s1[1:-1]\n",
    "s2 = ''.join(['x' if char not in \"aeiouyAEIOUY\" else char for char in s2])\n",
    "\n",
    "w2 = sum([ord(ch) for ch in s2])\n",
    "\n",
    "w3 = s1.count('a')\n",
    "\n",
    "w4 = ord(s1[len(s1) - 1]) if s1 < s2 else ord(s2[len(s2) - 1])\n",
    "\n",
    "w5 = int(w3 == w4) + int(str(nr_indeksu)[0])\n",
    "\n",
    "print(f'w1 = {w1}\\nw2 = {w2}\\nw3 = {w3}\\nw4 = {w4}\\nw5 = {w5}')"
   ]
  },
  {
   "cell_type": "code",
   "execution_count": null,
   "id": "433f570e2b0d7b76",
   "metadata": {
    "collapsed": false,
    "jupyter": {
     "outputs_hidden": false
    }
   },
   "outputs": [],
   "source": [
    "# przykład generowania zwracaanej nazwy tego notebooka\n",
    "# zamiast 999 wpisz obliczone przez Ciebie wartości\n",
    "\n",
    "\n",
    "nazwa_notebooka = f'lab1x___w1_{w1}___w2_{w2}___w3_{w3}___w4_{w4}___w5_{w5}.ipynb'\n",
    "print(f'nazwa_notebooka: {nazwa_notebooka}')"
   ]
  }
 ],
 "metadata": {
  "kernelspec": {
   "display_name": "Python 3 (ipykernel)",
   "language": "python",
   "name": "python3"
  },
  "language_info": {
   "codemirror_mode": {
    "name": "ipython",
    "version": 3
   },
   "file_extension": ".py",
   "mimetype": "text/x-python",
   "name": "python",
   "nbconvert_exporter": "python",
   "pygments_lexer": "ipython3",
   "version": "3.13.2"
  }
 },
 "nbformat": 4,
 "nbformat_minor": 5
}
