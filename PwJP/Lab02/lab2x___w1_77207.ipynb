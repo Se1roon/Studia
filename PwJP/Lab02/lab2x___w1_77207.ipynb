{
 "cells": [
  {
   "cell_type": "markdown",
   "id": "e999df4355d36e7a",
   "metadata": {
    "collapsed": false,
    "jupyter": {
     "outputs_hidden": false
    }
   },
   "source": [
    "## Zadanie\n",
    "\n",
    "Utwórz string `s1` będący powtórzeniem Twojego imienia i nazwiska tyle razy ile wynosi reszta z dzielenia wartości Twojego numeru indeksu przez `99` (jeśli reszta wynosi `0`, to znajdź resztę z dzielenia przez `999`)  \n",
    "\n",
    "\n",
    "```\n",
    "przykład:\n",
    "nr_indeksu, imie, nazwisko = 99003, 'Błażej', 'Kuś'\n",
    "s1: BłażejKuśBłażejKuśBłażejKuś\n",
    "```\n",
    "\n",
    "Napisz funkcję `f1` przyjmującą jako argument `s1` i zwracającą dwie listy:\n",
    "`x` - lista zawierająca co trzecią literę z `s1` od początku\n",
    "`y` - lista zawierająca co trzecią literę z `s1` od końca\n",
    "\n",
    "uwaga: `(type(x): <class 'list'>)`, `(type(y): <class 'list'>)`\n",
    "\n",
    "\n",
    "```\n",
    "przykład:\n",
    "x: ['B', 'ż', 'K', 'B', 'ż', 'K', 'B', 'ż', 'K']\n",
    "y: ['ś', 'j', 'a', 'ś', 'j', 'a', 'ś', 'j', 'a']\n",
    "```\n",
    "\n",
    "Następnie utwórz listę `z` zawierającą elementy z `x` i `y` będące znakami ASCII (kod <= 127)\n",
    "\n",
    "**znajdź:**\n",
    "`w1`, będące sumą wszystkich znaków z listy `z` (sumą ich kodów) \n"
   ]
  },
  {
   "cell_type": "code",
   "execution_count": 18,
   "id": "53dd0de1283fdffb",
   "metadata": {
    "collapsed": false,
    "jupyter": {
     "outputs_hidden": false
    }
   },
   "outputs": [
    {
     "name": "stdout",
     "output_type": "stream",
     "text": [
      "77207\n"
     ]
    }
   ],
   "source": [
    "# Podmień wartości poniższych zmiennych na Twoje personalia.\n",
    "# Imie i Nazwisko proszę pisać z polskimi literami i zaczynać od dużej litery.\n",
    "nr_indeksu, imie, nazwisko = 155201, 'Szymon', 'Markiewicz'\n",
    "\n",
    "s1 = ''.join([imie + nazwisko for _ in range(nr_indeksu % 99)])\n",
    "\n",
    "def f1(s1):\n",
    "    x = [ s1[i] for i in range(0, len(s1), 3) ]\n",
    "    y = [ s1[i] for i in range(-1, -1 * len(s1), -3) ]\n",
    "\n",
    "    return x, y\n",
    "\n",
    "x, y = f1(s1)\n",
    "\n",
    "x.extend(y)\n",
    "z = [ c for c in x if ord(c) <= 127 ]\n",
    "\n",
    "w1 = 0\n",
    "for ch in z:\n",
    "    w1 += ord(ch)\n",
    "             \n",
    "print(w1)"
   ]
  },
  {
   "cell_type": "code",
   "execution_count": 19,
   "id": "433f570e2b0d7b76",
   "metadata": {
    "collapsed": false,
    "jupyter": {
     "outputs_hidden": false
    }
   },
   "outputs": [
    {
     "name": "stdout",
     "output_type": "stream",
     "text": [
      "nazwa_notebooka: lab2x___w1_77207.ipynb\n"
     ]
    }
   ],
   "source": [
    "# przykład generowania zwracaanej nazwy tego notebooka\n",
    "# zamiast 999 wpisz obliczone przez Ciebie wartości\n",
    "\n",
    "w1 = 77207\n",
    "\n",
    "nazwa_notebooka = f'lab2x___w1_{w1}.ipynb'\n",
    "print(f'nazwa_notebooka: {nazwa_notebooka}')"
   ]
  },
  {
   "cell_type": "code",
   "execution_count": null,
   "id": "0e51090b-0836-4f20-8b53-3108abce188f",
   "metadata": {},
   "outputs": [],
   "source": []
  }
 ],
 "metadata": {
  "kernelspec": {
   "display_name": "Python 3 (ipykernel)",
   "language": "python",
   "name": "python3"
  },
  "language_info": {
   "codemirror_mode": {
    "name": "ipython",
    "version": 3
   },
   "file_extension": ".py",
   "mimetype": "text/x-python",
   "name": "python",
   "nbconvert_exporter": "python",
   "pygments_lexer": "ipython3",
   "version": "3.13.2"
  }
 },
 "nbformat": 4,
 "nbformat_minor": 5
}
