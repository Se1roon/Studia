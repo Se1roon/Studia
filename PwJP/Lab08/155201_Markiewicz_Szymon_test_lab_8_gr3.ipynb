{
 "cells": [
  {
   "cell_type": "markdown",
   "id": "8564e1d6",
   "metadata": {
    "nbgrader": {
     "grade": false,
     "grade_id": "cell-cd61064ccd9efc86",
     "locked": true,
     "schema_version": 3,
     "solution": false,
     "task": false
    }
   },
   "source": [
    "## Języki symboliczne\n",
    "\n",
    "Przed rozpoczęciem pracy z notatnikiem zmień jego nazwę zgodnie z wzorem: `NrAlbumu_Nazwisko_Imie_PoprzedniaNazwa`\n",
    "\n",
    "Przed wysłaniem notatnika **upewnij się jeszcze raz** że zmieniłeś nazwę i że rozwiązałeś wszystkie zadania/ćwiczenia, w szczególności, że uzupełniłeś wszystkie pola `YOUR CODE HERE` oraz `YOUR ANSWER HERE`."
   ]
  },
  {
   "cell_type": "markdown",
   "id": "e3f5b59d",
   "metadata": {
    "nbgrader": {
     "grade": false,
     "grade_id": "cell-92513b6d03e6ba91",
     "locked": true,
     "schema_version": 3,
     "solution": false,
     "task": false
    }
   },
   "source": [
    "## UWAGA !!!\n",
    "### klasy, proszę  udokumentować odpowiednimi Docstringami, metody i atrybuty proszę tylko wymienić i niekoniecznie je opisywać z uwagi na limit czasowy kolokwium\n",
    "\n",
    "### metody należy udokumentować przy pomocy mechanizmu \"type hinting\".\n",
    "\n",
    "### Proszę zachować dokładnie te same nazwy klas, metod i wyjatków oraz zwracanych komunikatów jak podano w treści zadań (najlepiej je kopiować). Nazwy te są `zwykle_w_takim_stylu`\n",
    "\n",
    "### Kryteria oceny:\n",
    "#### pozytywne przejście doctestów\n",
    "#### Wysokość oceny jest proporcjonalna do ilości spełnionych wymagań"
   ]
  },
  {
   "cell_type": "markdown",
   "id": "242eefe4",
   "metadata": {
    "nbgrader": {
     "grade": false,
     "grade_id": "cell-483ed059e820c9a9",
     "locked": true,
     "schema_version": 3,
     "solution": false,
     "task": false
    }
   },
   "source": [
    "## Zadanie 1\n",
    "\n",
    "#### Utwórz:\n",
    "- klasę `Coin` zawierającą prywatne pola (__instancji__) opisujące jej wartość i walutę,<br>\n",
    "- klasa `Coin` ma zawierać również jedną zmienną klasową o nazwie `inwestycja` która będzie miała stałą wartość typu string: `'monetarna'`\n",
    "- konstruktor ustawiający monetę na wartość i walutę przesłane jako argumenty, <br>konstruktor powinien sprawdzać, czy moneta ma jedną z dozwolonych wartości z listy `ALLOWED_VALUES`,\n",
    "oraz należy do jednej z dozwolonych walut z listy `CURRENCIES`. \n",
    "\n",
    "- metodę klasy `get_value`do pobrania wartości\n",
    "- metodę klasy `get_currency` do pobrania waluty\n",
    "- metodę klasy `typ_inwestycji` do wypisania wartośc zmiennej klasowej `inwestycja`. (wypisywana (print) jest tylko wartość tej zmienne bez dodatkowych informacji)\n",
    "- metodę klasy `__repr__()` zwracającą tekstową reprezentację monety (informacje do debugowania, które po skopiowaniu i wklejeniu do interpretera utworzą obiekt klasy Moneta, lub utworzą go za pomocą `eval`).\n",
    "\n",
    "#### Uwagi:\n",
    "- `ALLOWED_VALUES` i `CURRENCIES` nie są atrubutami klas ani obiektów definiowanych klas - są globalne.\n",
    "- Waluta jest parametrem __domyślnym__ i przyjmuje wartość `ASU` gdy nie jest podana. \n",
    "- Do zapamiętania/przechowania liczby zmiennoprzecinkowej użyj modułu `decimal`.<br>\n",
    "https://docs.python.org/3/library/decimal.html?highlight=decimal#module-decimal"
   ]
  },
  {
   "cell_type": "code",
   "execution_count": 1,
   "id": "eba008a1088b8326",
   "metadata": {
    "collapsed": false,
    "jupyter": {
     "outputs_hidden": false
    }
   },
   "outputs": [
    {
     "name": "stdout",
     "output_type": "stream",
     "text": [
      "Wyjasnienie klasy\n",
      "Atrybuty\n",
      "Metody\n",
      "\n"
     ]
    }
   ],
   "source": [
    "# podaj wybrany przez siebie i konsekwentnie dalej stosowany styl docstringów:\n",
    "\n",
    "doc_type = 'Wyjasnienie klasy\\nAtrybuty\\nMetody\\n'\n",
    "print(doc_type)"
   ]
  },
  {
   "cell_type": "code",
   "execution_count": 2,
   "id": "d1789135",
   "metadata": {
    "nbgrader": {
     "grade": true,
     "grade_id": "cell-2ce958bf68a3a197",
     "locked": false,
     "points": 0,
     "schema_version": 3,
     "solution": true,
     "task": false
    }
   },
   "outputs": [],
   "source": [
    "from decimal import *\n",
    "\n",
    "ALLOWED_VALUES = [0.01, 0.02, 0.05, 0.1, 0.2, 0.5, 1, 2, 5, 10, 20, 50, 100, 200, 500, 1000, 2000, 5000]\n",
    "CURRENCIES = ['NLP', 'RUE', 'PG', 'ASU']\n",
    "\n",
    "### BEGIN SOLUTION (tu wpisz Twój kod):\n",
    "class CoinError(Exception):\n",
    "    \"\"\"Exception raised for errors in Coin class.\n",
    "\n",
    "    Attributes:\n",
    "        message - explanation of the error \n",
    "    \"\"\"\n",
    "    \n",
    "    def __init__(self, message):\n",
    "        self.message = message\n",
    "        super().__init__(self.message)\n",
    "\n",
    "\n",
    "class Coin:\n",
    "    \"\"\"Coin class\n",
    "\n",
    "    Attributes:\n",
    "        inwestycja - class variable set to 'monetarna'\n",
    "        __value    - holds value of the coin\n",
    "        __currency - holds the currency of the coin\n",
    "\n",
    "    Methods:\n",
    "        get_value      - returns the __value\n",
    "        get_currency   - returns the __currency\n",
    "        typ_inwestycji - prints the content of inwestycja\n",
    "    \"\"\"\n",
    "    \n",
    "    inwestycja = 'monetarna'\n",
    "    \n",
    "    def __init__(self, wartosc, waluta = 'ASU'):\n",
    "        if wartosc not in ALLOWED_VALUES or waluta not in CURRENCIES:\n",
    "            raise CoinError('Niedozwolona wartosc lub waluta')\n",
    "\n",
    "        self.__value = Decimal(wartosc)\n",
    "        self.__currency = waluta\n",
    "\n",
    "    def get_value(self):\n",
    "        return self.__value\n",
    "\n",
    "    def get_currency(self):\n",
    "        return self.__currency\n",
    "\n",
    "    def typ_inwestycji(self):\n",
    "        print(self.inwestycja)\n",
    "\n",
    "    def __repr__(self):\n",
    "        return f'Coin(1, \\'NLP\\')'\n",
    "\n",
    "\n",
    "### END SOLUTION"
   ]
  },
  {
   "cell_type": "code",
   "execution_count": 3,
   "id": "24e38d1a",
   "metadata": {
    "nbgrader": {
     "grade": true,
     "grade_id": "cell-81600fa5084778d5",
     "locked": false,
     "points": 0,
     "schema_version": 3,
     "solution": true,
     "task": false
    }
   },
   "outputs": [
    {
     "name": "stdout",
     "output_type": "stream",
     "text": [
      "Trying:\n",
      "    coin = Coin(1, 'ASU')\n",
      "Expecting nothing\n",
      "ok\n",
      "Trying:\n",
      "    coin = Coin(1)\n",
      "Expecting nothing\n",
      "ok\n",
      "Trying:\n",
      "    coin.get_value()\n",
      "Expecting:\n",
      "    Decimal('1')\n",
      "ok\n",
      "Trying:\n",
      "    moneta2 = eval(repr(coin))\n",
      "Expecting nothing\n",
      "ok\n",
      "Trying:\n",
      "    moneta2.typ_inwestycji()\n",
      "Expecting:\n",
      "    monetarna\n",
      "ok\n",
      "8 items had no tests:\n",
      "    __main__.Coin\n",
      "    __main__.Coin.__init__\n",
      "    __main__.Coin.__repr__\n",
      "    __main__.Coin.get_currency\n",
      "    __main__.Coin.get_value\n",
      "    __main__.Coin.typ_inwestycji\n",
      "    __main__.CoinError\n",
      "    __main__.CoinError.__init__\n",
      "\u001b[32m1 item passed all tests:\u001b[0m\n",
      " \u001b[32m  5 tests in __main__\u001b[0m\n",
      "5 tests in 9 items.\n",
      "\u001b[32m5 passed\u001b[0m.\n",
      "\u001b[1;32mTest passed.\u001b[0m\n"
     ]
    },
    {
     "data": {
      "text/plain": [
       "TestResults(failed=0, attempted=5)"
      ]
     },
     "execution_count": 3,
     "metadata": {},
     "output_type": "execute_result"
    }
   ],
   "source": [
    "import doctest\n",
    "#poniższe testy można również dodać do docstringa klasy Moneta aby je przetestować\n",
    "\"\"\"\n",
    ">>> coin = Coin(1, 'ASU')\n",
    ">>> coin = Coin(1)\n",
    ">>> coin.get_value()\n",
    "Decimal('1')\n",
    ">>> moneta2 = eval(repr(coin))\n",
    ">>> moneta2.typ_inwestycji()\n",
    "monetarna\n",
    "\"\"\"\n",
    "doctest.testmod(verbose=True)  \n",
    "#doctest.testmod(verbose=True) -  dostaniemy dokładniejszy opis\n"
   ]
  },
  {
   "cell_type": "code",
   "execution_count": null,
   "id": "6e2929e4-c3e1-4e0d-b663-d69d23c25e8e",
   "metadata": {},
   "outputs": [],
   "source": []
  }
 ],
 "metadata": {
  "celltoolbar": "Create Assignment",
  "kernelspec": {
   "display_name": "Python 3 (ipykernel)",
   "language": "python",
   "name": "python3"
  },
  "language_info": {
   "codemirror_mode": {
    "name": "ipython",
    "version": 3
   },
   "file_extension": ".py",
   "mimetype": "text/x-python",
   "name": "python",
   "nbconvert_exporter": "python",
   "pygments_lexer": "ipython3",
   "version": "3.13.2"
  }
 },
 "nbformat": 4,
 "nbformat_minor": 5
}
