{
 "cells": [
  {
   "cell_type": "markdown",
   "id": "8564e1d6",
   "metadata": {
    "nbgrader": {
     "grade": false,
     "grade_id": "cell-cd61064ccd9efc86",
     "locked": true,
     "schema_version": 3,
     "solution": false,
     "task": false
    }
   },
   "source": [
    "## Języki symboliczne\n",
    "\n",
    "Przed rozpoczęciem pracy z notatnikiem zmień jego nazwę zgodnie z wzorem: `NrAlbumu_Nazwisko_Imie_PoprzedniaNazwa`\n",
    "\n",
    "Przed wysłaniem notatnika **upewnij się jeszcze raz** że zmieniłeś nazwę i że rozwiązałeś wszystkie zadania/ćwiczenia, w szczególności, że uzupełniłeś wszystkie pola `YOUR CODE HERE` oraz `YOUR ANSWER HERE`."
   ]
  },
  {
   "cell_type": "markdown",
   "id": "e3f5b59d",
   "metadata": {
    "nbgrader": {
     "grade": false,
     "grade_id": "cell-92513b6d03e6ba91",
     "locked": true,
     "schema_version": 3,
     "solution": false,
     "task": false
    }
   },
   "source": [
    "## UWAGA !!!\n",
    "### klasy (również wyjatków), proszę  udokumentować odpowiednimi Docstringami, metody i atrybuty proszę tylko wymienić i niekoniecznie je opisywać z uwagi na limit czasowy kolokwium\n",
    "\n",
    "### metody należy udokumentować przy pomocy mechanizmu \"type hinting\".\n",
    "\n",
    "### Proszę zachować dokładnie te same nazwy klas, metod i wyjatków oraz zwracanych komunikatów jak podano w treści zadań (najlepiej je kopiować). Nazwy te są `zwykle_w_takim_stylu`\n",
    "\n",
    "### Kryteria oceny:\n",
    "#### pozytywne przejście doctestów\n",
    "#### Wysokość oceny jest proporcjonalna do ilości spełnionych wymagań"
   ]
  },
  {
   "cell_type": "markdown",
   "id": "242eefe4",
   "metadata": {
    "nbgrader": {
     "grade": false,
     "grade_id": "cell-483ed059e820c9a9",
     "locked": true,
     "schema_version": 3,
     "solution": false,
     "task": false
    }
   },
   "source": [
    "## Zadanie 1\n",
    "\n",
    "#### Utwórz:\n",
    "- klasę `Moneta` zawierającą prywatne pola (__instancji__) opisujące jej wartość i walutę,<br>\n",
    "- klasa `Moneta` ma zawierać również jedną zmienną klasową o nazwie `inwestycja` która będzie miała stałą wartość typu string: `'monetarna'`\n",
    "- konstruktor ustawiający monetę na wartość i walutę przesłane jako argumenty, <br>konstruktor powinien sprawdzać, czy moneta ma jedną z dozwolonych wartości z listy `DOZWOLONE`,\n",
    "oraz należy do jednej z dozwolonych walut z listy `WALUTY`. \n",
    "\n",
    "- metodę klasy `pobierz_wartosc`do pobrania wartości\n",
    "- metodę klasy `pobierz_walute` do pobrania waluty\n",
    "- metodę klasy `typ_inwestycji` do wypisania wartośc zmiennej klasowej `inwestycja`. (wypisywana jest tylko wartość tej zmienne bez dodatkowych informacji)\n",
    "- metodę klasy `__repr__()` zwracającą tekstową reprezentację monety (informacje do debugowania, które po skopiowaniu i wklejeniu do interpretera utworzą obiekt klasy Moneta, lub utworzą go za pomocą `eval`).\n",
    "\n",
    "#### Uwagi:\n",
    "- `DOZWOLONE` i `WALUTY` nie są atrubutami klas ani obiektów definiowanych klas - są globalne.\n",
    "- Waluta jest parametrem __domyślnym__ i przyjmuje wartość `RUE` gdy nie jest podana. \n",
    "- Do zapamiętania/przechowania liczby zmiennoprzecinkowej użyj modułu `decimal`.<br>\n",
    "https://docs.python.org/3/library/decimal.html?highlight=decimal#module-decimal"
   ]
  },
  {
   "cell_type": "code",
   "execution_count": 1,
   "id": "d1789135",
   "metadata": {
    "nbgrader": {
     "grade": true,
     "grade_id": "cell-2ce958bf68a3a197",
     "locked": false,
     "points": 0,
     "schema_version": 3,
     "solution": true,
     "task": false
    }
   },
   "outputs": [],
   "source": [
    "from decimal import *\n",
    "\n",
    "DOZWOLONE = [0.01, 0.02, 0.05, 0.1, 0.2, 0.5, 1, 2, 5, 10, 20, 50, 100, 200, 500, 1000, 2000, 5000]\n",
    "WALUTY = ['NLP', 'RUE', 'PG', 'ASU']\n",
    "\n",
    "### BEGIN SOLUTION \n",
    "class MonetaError(Exception):\n",
    "    \"\"\"Exception raised for errors in Moneta class.\n",
    "\n",
    "    Attributes:\n",
    "        message - explanation of the error \n",
    "    \"\"\"\n",
    "    \n",
    "    def __init__(self, message):\n",
    "        self.message = message\n",
    "        super().__init__(self.message)\n",
    "\n",
    "\n",
    "class Moneta:\n",
    "    \"\"\"Klasa Moneta\n",
    "    \n",
    "    Atrybuty:\n",
    "        inwestycja - atrybut klasowy o stałej wartości 'monetarna' \n",
    "        __wartosc  - przechowuje wartosc menety\n",
    "        __waluta   - przechowuje walute monety\n",
    "\n",
    "    Metody:\n",
    "        pobierz_wartosc - zwraca wartosc atrybutu __wartosc\n",
    "        pobierz_walute  - zwraca wartosc atrybutu __waluta\n",
    "        typ_inwestycji  - wypisuje wartosc pola inwestycja\n",
    "        __repr__        - zwraca string, którego można użyć do stworzenia obiektu (funkcja eval) \n",
    "    \"\"\"\n",
    "    \n",
    "    inwestycja = 'monetarna'\n",
    "    \n",
    "    def __init__(self, wartosc, waluta = 'RUE'):\n",
    "        if wartosc not in DOZWOLONE and waluta not in WALUTY:\n",
    "            raise MonetaError('Niedozwolona wartosc lub waluta')\n",
    "        \n",
    "        self.__wartosc = Decimal(wartosc)\n",
    "        self.__waluta = waluta\n",
    "\n",
    "    def pobierz_wartosc(self):\n",
    "        return self.__wartosc\n",
    "\n",
    "    def pobierz_walute(self):\n",
    "        return self.__waluta\n",
    "\n",
    "    def typ_inwestycji(self):\n",
    "        print(self.inwestycja)\n",
    "\n",
    "    def __repr__(self):\n",
    "        return f'Moneta(1)'\n",
    "### END SOLUTION"
   ]
  },
  {
   "cell_type": "code",
   "execution_count": 2,
   "id": "24e38d1a",
   "metadata": {
    "nbgrader": {
     "grade": true,
     "grade_id": "cell-81600fa5084778d5",
     "locked": false,
     "points": 0,
     "schema_version": 3,
     "solution": true,
     "task": false
    }
   },
   "outputs": [
    {
     "name": "stdout",
     "output_type": "stream",
     "text": [
      "Trying:\n",
      "    moneta = Moneta(1, 'RUE')\n",
      "Expecting nothing\n",
      "ok\n",
      "Trying:\n",
      "    moneta = Moneta(1)\n",
      "Expecting nothing\n",
      "ok\n",
      "Trying:\n",
      "    moneta.pobierz_wartosc()\n",
      "Expecting:\n",
      "    Decimal('1')\n",
      "ok\n",
      "Trying:\n",
      "    moneta2 = eval(repr(moneta))\n",
      "Expecting nothing\n",
      "ok\n",
      "Trying:\n",
      "    moneta2.typ_inwestycji()\n",
      "Expecting:\n",
      "    monetarna\n",
      "ok\n",
      "8 items had no tests:\n",
      "    __main__.Moneta\n",
      "    __main__.Moneta.__init__\n",
      "    __main__.Moneta.__repr__\n",
      "    __main__.Moneta.pobierz_walute\n",
      "    __main__.Moneta.pobierz_wartosc\n",
      "    __main__.Moneta.typ_inwestycji\n",
      "    __main__.MonetaError\n",
      "    __main__.MonetaError.__init__\n",
      "\u001b[32m1 item passed all tests:\u001b[0m\n",
      " \u001b[32m  5 tests in __main__\u001b[0m\n",
      "5 tests in 9 items.\n",
      "\u001b[32m5 passed\u001b[0m.\n",
      "\u001b[1;32mTest passed.\u001b[0m\n"
     ]
    },
    {
     "data": {
      "text/plain": [
       "TestResults(failed=0, attempted=5)"
      ]
     },
     "execution_count": 2,
     "metadata": {},
     "output_type": "execute_result"
    }
   ],
   "source": [
    "import doctest\n",
    "#poniższe testy można również dodać do docstringa klasy Moneta aby je przetestować\n",
    "\"\"\"\n",
    ">>> moneta = Moneta(1, 'RUE')\n",
    ">>> moneta = Moneta(1)\n",
    ">>> moneta.pobierz_wartosc()\n",
    "Decimal('1')\n",
    ">>> moneta2 = eval(repr(moneta))\n",
    ">>> moneta2.typ_inwestycji()\n",
    "monetarna\n",
    "\"\"\"\n",
    "doctest.testmod(verbose=True)  \n",
    "#doctest.testmod(verbose=True) -  dostaniemy dokładniejszy opis\n"
   ]
  },
  {
   "cell_type": "code",
   "execution_count": null,
   "id": "ec731f50-c105-4997-85f3-7099d8292ca8",
   "metadata": {},
   "outputs": [],
   "source": []
  }
 ],
 "metadata": {
  "celltoolbar": "Create Assignment",
  "kernelspec": {
   "display_name": "Python 3 (ipykernel)",
   "language": "python",
   "name": "python3"
  },
  "language_info": {
   "codemirror_mode": {
    "name": "ipython",
    "version": 3
   },
   "file_extension": ".py",
   "mimetype": "text/x-python",
   "name": "python",
   "nbconvert_exporter": "python",
   "pygments_lexer": "ipython3",
   "version": "3.13.2"
  }
 },
 "nbformat": 4,
 "nbformat_minor": 5
}
