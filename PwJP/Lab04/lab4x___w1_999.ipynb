{
 "cells": [
  {
   "cell_type": "code",
   "execution_count": 40,
   "id": "53dd0de1283fdffb",
   "metadata": {
    "collapsed": false,
    "jupyter": {
     "outputs_hidden": false
    }
   },
   "outputs": [],
   "source": [
    "# dane są  definicje funkcji [lab2e, lab2f, lab2g, lab34ssde, labsdd2assde, labww2assde, lab2fggassde]:\n",
    "\n",
    "def lab2e(id):\n",
    "    return id * len(\"lab2e\")\n",
    "def lab2f(id):\n",
    "    return id * len(\"lab2f\")\n",
    "def lab2g(id):\n",
    "    return id * len(\"lab2g\")\n",
    "def lab34ssde(id):\n",
    "    return id * len(\"lab34ssde\")\n",
    "def labsdd2assde(id):\n",
    "    return id * len(\"labsdd2assde\")\n",
    "def labww2assde(id):\n",
    "    return id * len(\"labww2assde\")\n",
    "def lab2fggassde(id):\n",
    "    return id * len(\"lab2fggassde\")\n",
    "\n",
    "# dane są listy lab_names, lab_dates:\n",
    "lab_names = [\"lab2e\", \"lab2f\", \"lab2g\", \"lab34ssde\", \"labsdd2assde\", \"labww2assde\", \"lab2fggassde\"]\n",
    "\n",
    "lab_dates = [['2024_03_21_12', '2024_03_21_13'],\\\n",
    "            ['2024_03_21_14', '2024_03_21_15'],\\\n",
    "            ['2024_03_21_15', '2024_03_21_16'],\\\n",
    "            ['2024_03_26_17', '2024_03_26_18'],\\\n",
    "            ['2024_03_21_12', '2024_03_21_13'],\\\n",
    "            ['2024_03_15_11', '2024_03_15_12'],\\\n",
    "            ['2024_03_21_15', '2024_03_21_16']]\n"
   ]
  },
  {
   "cell_type": "markdown",
   "id": "b602cbfbf33181f2",
   "metadata": {
    "collapsed": false,
    "jupyter": {
     "outputs_hidden": false
    }
   },
   "source": [
    "### Zadanie\n",
    "lista `lab_names` zawiera nazwy laboratoriów\n",
    "lista `lab_dates` zawiera przedziały czasowe w jakich się odbyły - pierwszy string  to rozpoczęcie a drugi to zakończenie laboratorium\n",
    "\n",
    "utwórz słownik `dates_and_labs` którego kluczami będą pary będące przedziałami czasowymi z `lab_dates`\n",
    "a wartościami zdefiniowane wcześniej FUNKCJE odpowiadające nazwom laboratoriów z `lab_names`.\n",
    "(dodawaj do słownika elementy w takiej kolejności jak elementy występują w `lab_dates`),  \n",
    "\n",
    "napisz funkcję `f_w1(dates_and_labs, id)` która:\n",
    "- oblicza wartość `ind` równą reszcie z dzielenia `id` przez `7`\n",
    "- ze słownika `dates_and_labs` pobiera wartość `val` elementu którego klucz odpowiada wartościom z `lab_dates[ind]`,\n",
    "- wywołuje funkcję `val(id)` i jej rezultat mnoży przez liczbę stworzoną z ostatnich dwóch cyfr drugiego elementu klucza.\n",
    "- następnie zwraca tak obliczoną wartość\n"
   ]
  },
  {
   "cell_type": "code",
   "execution_count": 60,
   "id": "433f570e2b0d7b76",
   "metadata": {
    "collapsed": false,
    "jupyter": {
     "outputs_hidden": false
    }
   },
   "outputs": [
    {
     "name": "stdout",
     "output_type": "stream",
     "text": [
      "nazwa_notebooka: lab4x___w1_24211356.ipynb\n"
     ]
    }
   ],
   "source": [
    "# Podmień wartości poniższych zmiennych na Twoje personalia.\n",
    "# Imie i Nazwisko proszę pisać z polskimi literami i zaczynać od dużej litery.\n",
    "nr_indeksu, imie, nazwisko = 155201, 'Szymon', 'Markiewicz'\n",
    "\n",
    "dates_and_labs = { tuple(dates): globals()[name] for dates, name in zip(lab_dates, lab_names) }\n",
    "\n",
    "# Twoja implementacja f_w1:\n",
    "def f_w1(dates_and_labs, id):\n",
    "    ind = id % 7\n",
    "    val = dates_and_labs[tuple(lab_dates[ind])]\n",
    "    return val(id) * int(lab_dates[ind][1][len(lab_dates[ind][1]) - 2:])\n",
    "\n",
    "w1 = f_w1(dates_and_labs, nr_indeksu)   \n",
    "\n",
    "nazwa_notebooka = f'lab4x___w1_{w1}.ipynb'\n",
    "print(f'nazwa_notebooka: {nazwa_notebooka}')"
   ]
  },
  {
   "cell_type": "code",
   "execution_count": null,
   "id": "b78fee4a-3dba-4978-b223-09c9091693b4",
   "metadata": {},
   "outputs": [],
   "source": []
  }
 ],
 "metadata": {
  "kernelspec": {
   "display_name": "Python 3 (ipykernel)",
   "language": "python",
   "name": "python3"
  },
  "language_info": {
   "codemirror_mode": {
    "name": "ipython",
    "version": 3
   },
   "file_extension": ".py",
   "mimetype": "text/x-python",
   "name": "python",
   "nbconvert_exporter": "python",
   "pygments_lexer": "ipython3",
   "version": "3.13.2"
  }
 },
 "nbformat": 4,
 "nbformat_minor": 5
}
