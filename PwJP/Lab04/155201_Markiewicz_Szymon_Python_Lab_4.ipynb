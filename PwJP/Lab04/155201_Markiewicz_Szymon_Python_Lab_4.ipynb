{
 "cells": [
  {
   "cell_type": "markdown",
   "metadata": {
    "deletable": false,
    "editable": false,
    "nbgrader": {
     "cell_type": "markdown",
     "checksum": "7a989f11e0a6d8809783bca66888a35d",
     "grade": false,
     "grade_id": "cell-26614cab1c00933b",
     "locked": true,
     "schema_version": 3,
     "solution": false,
     "task": false
    }
   },
   "source": [
    "# Programowanie w Pythonie\n",
    "\n",
    "\n",
    "Przed rozpoczęciem pracy z notatnikiem zmień jego nazwę zgodnie z wzorem: `NrAlbumu_Nazwisko_Imie_PoprzedniaNazwa`\n",
    "\n",
    "Przed wysłaniem notatnika **upewnij się jeszcze raz** że zmieniłeś nazwę i że rozwiązałeś wszystkie zadania/ćwiczenia, w szczególności, że uzupełniłeś wszystkie pola `YOUR CODE HERE` oraz `YOUR ANSWER HERE`."
   ]
  },
  {
   "cell_type": "markdown",
   "metadata": {
    "deletable": false,
    "editable": false,
    "nbgrader": {
     "cell_type": "markdown",
     "checksum": "de74cf3138542217ef8389408bd8ff19",
     "grade": false,
     "grade_id": "cell-51d5c973082f0959",
     "locked": true,
     "schema_version": 3,
     "solution": false
    }
   },
   "source": [
    "# Temat: Krotki. Zbiory. Słowniki.\n",
    "Zapoznaj się z treścią niniejszego notatnika czytając i wykonując go komórka po komórce. Wykonaj napotkane zadania/ćwiczenia.\n",
    "\n",
    "## Krotki\n",
    "\n",
    "\n",
    "- Krotka to nowy typ zmiennych: `tuple`. \n",
    "- Typ `immutable` - niemutowalny.\n",
    "- Składają się z pewnej liczby elementów oddzielonych przecinkiem, można je ująć w nawiasy `()` (czasami jest to wręcz konieczne gdy np. występują zagnieżdżenia lub jeśli stosujemy je w wyrażeniach).\n",
    "- Mają wiele zastosowań (np. jako para współrzędnych `(x,y)`, rekord pracowników z bazy danych itd.)\n",
    "- Nie jest możliwe przypisanie poszczególnym elementom takiej listy wartości, aczkolwiek można to zasymulować poprzez wycinanie i sklejanie. \n",
    "- Możliwe jest tworzenie krotek, które zawierają mutowalne obiekty takie jak np. listy.\n",
    "- Zwykle zawierają heterogeniczne sekwencje danych.\n",
    "- Przy pomocy operatorów `in`, `not in` można testować przynależność elementu do krotki.\n",
    "- Funkcja zwracająca kilka obiektów, zwraca je jako krotkę.\n",
    "\n",
    "\n",
    "### Tworzenie krotek. Funkcja `tuple()`, użycie `()`. \n",
    "Aby utworzyć krotkę należy użyć nawiasów `()` lub funkcji `tuple()` z argumentem bedącym obiektem iterowalnym. Jeżeli nie podamy żadnych argumentów tworzona jest pusta krotka. Krotkę możemy utorzyć z kilku obiektów oddzielonych przecinkami (bez użycia nawiasów `()`). Krotki z jednym elementem tworzymy poprzez wartość, po której następuje przecinek (nie wystarcza otoczyć pojedynczą wartość nawiasami okrągłymi).\n",
    "\n",
    "\n",
    "#### Proste przykłady:"
   ]
  },
  {
   "cell_type": "code",
   "execution_count": null,
   "metadata": {},
   "outputs": [],
   "source": [
    "k = (1,2,3,4,5)  # tworzenie krotki\n",
    "print(type(k))\n",
    "print(k)\n",
    "print(2 in k)  # spradzenie czy element jest w krotce\n",
    "print(0 in k)\n",
    "print(k[2])    # wypisanie elementu\n",
    "print(k[1:3])"
   ]
  },
  {
   "cell_type": "code",
   "execution_count": null,
   "metadata": {},
   "outputs": [],
   "source": [
    "k1 = 11, [21, 22], 'tekst' # tworzenie krotki - krotka może zawierać obiekty różnych typów\n",
    "print(type(k1))\n",
    "print(k1)\n",
    "print(k1[1][1])\n",
    "print(k1[2][2])"
   ]
  },
  {
   "cell_type": "code",
   "execution_count": null,
   "metadata": {},
   "outputs": [],
   "source": [
    "k = (1,2,3,4,5)\n",
    "t = k, (22,33,44) #krotki można zagnieżdżać\n",
    "print(t)\n",
    "print(t[1][1])"
   ]
  },
  {
   "cell_type": "code",
   "execution_count": null,
   "metadata": {},
   "outputs": [],
   "source": [
    "k = (1,2,3,4,5)\n",
    "k[2] = 111   #błąd - krotka jest obiektem niemutowalnym"
   ]
  },
  {
   "cell_type": "code",
   "execution_count": null,
   "metadata": {},
   "outputs": [],
   "source": [
    "t = [1,2,3],[3,2,1]\n",
    "print(type(t),t)    # krotki mogą zwracać/zawierać obiekty mutowalne - wtedy można modyfikować takie elementy\n",
    "t[1][1] = 111     \n",
    "print(type(t),t)"
   ]
  },
  {
   "cell_type": "code",
   "execution_count": null,
   "metadata": {},
   "outputs": [],
   "source": [
    "p = ()     #pusta krotka\n",
    "r = tuple()\n",
    "print(p,r)\n",
    "s = 'a',   #krotka jednoelementowa\n",
    "print(s)\n",
    "p = 1,\n",
    "print(p)"
   ]
  },
  {
   "cell_type": "code",
   "execution_count": null,
   "metadata": {},
   "outputs": [],
   "source": [
    "k = (1,2,3,4,5) #rozpakowanie krotki - lista zmiennych po lewej stronie ma tyle samo elementów co krotka\n",
    "a, b, c, d, e = k\n",
    "print(k)\n",
    "print(*k)      #rozpakowanie krotki przy użyciu operatora *\n",
    "print(a,b,c,d,e)"
   ]
  },
  {
   "cell_type": "markdown",
   "metadata": {
    "deletable": false,
    "editable": false,
    "nbgrader": {
     "cell_type": "markdown",
     "checksum": "2513a52be1359d165acfd1c23583b116",
     "grade": false,
     "grade_id": "cell-dd6bd4c980a20db2",
     "locked": true,
     "schema_version": 3,
     "solution": false,
     "task": false
    }
   },
   "source": [
    "### Ćwiczenie 1\n",
    "\n",
    "Napisz funkcję `sincos(x)` liczącą `sin(x)` oraz `cos(x)`, zwracającą obie te wartości naraz (krotka, `tuple`). Wypisz wyniki dla kątów od 0 do 90 stopni jak poniżej:\n",
    "```\n",
    "kąt:   0\t sin:   0.0000000000000000\t cos:   1.0000000000000000\n",
    "kąt:   9\t sin:   0.1564344650402309\t cos:   0.9876883405951378\n",
    "kąt:  18\t sin:   0.3090169943749474\t cos:   0.9510565162951535\n",
    "kąt:  27\t sin:   0.4539904997395467\t cos:   0.8910065241883679\n",
    "kąt:  36\t sin:   0.5877852522924731\t cos:   0.8090169943749475\n",
    "kąt:  45\t sin:   0.7071067811865476\t cos:   0.7071067811865476\n",
    "kąt:  54\t sin:   0.8090169943749475\t cos:   0.5877852522924731\n",
    "kąt:  63\t sin:   0.8910065241883678\t cos:   0.4539904997395468\n",
    "kąt:  72\t sin:   0.9510565162951535\t cos:   0.3090169943749475\n",
    "kąt:  81\t sin:   0.9876883405951378\t cos:   0.1564344650402309\n",
    "kąt:  90\t sin:   1.0000000000000000\t cos:   0.0000000000000001\n",
    "```\n"
   ]
  },
  {
   "cell_type": "code",
   "execution_count": 21,
   "metadata": {
    "deletable": false,
    "nbgrader": {
     "cell_type": "code",
     "checksum": "1b95901d6422590142617b93ed4efd59",
     "grade": false,
     "grade_id": "cell-783a526fc4d5f9a2",
     "locked": false,
     "schema_version": 3,
     "solution": true,
     "task": false
    }
   },
   "outputs": [
    {
     "name": "stdout",
     "output_type": "stream",
     "text": [
      "kąt: 0\t\tsin: 0.0000000000000000\t\tcos: 1.0000000000000000\n",
      "kąt: 9\t\tsin: 0.1564344650402309\t\tcos: 0.9876883405951378\n",
      "kąt: 18\t\tsin: 0.3090169943749474\t\tcos: 0.9510565162951535\n",
      "kąt: 27\t\tsin: 0.4539904997395467\t\tcos: 0.8910065241883679\n",
      "kąt: 36\t\tsin: 0.5877852522924731\t\tcos: 0.8090169943749475\n",
      "kąt: 45\t\tsin: 0.7071067811865475\t\tcos: 0.7071067811865476\n",
      "kąt: 54\t\tsin: 0.8090169943749475\t\tcos: 0.5877852522924731\n",
      "kąt: 63\t\tsin: 0.8910065241883678\t\tcos: 0.4539904997395468\n",
      "kąt: 72\t\tsin: 0.9510565162951535\t\tcos: 0.3090169943749475\n",
      "kąt: 81\t\tsin: 0.9876883405951378\t\tcos: 0.1564344650402309\n",
      "kąt: 90\t\tsin: 1.0000000000000000\t\tcos: 0.0000000000000001\n"
     ]
    }
   ],
   "source": [
    "import math\n",
    "\n",
    "\n",
    "def sincos(x):\n",
    "    return math.sin(x), math.cos(x)\n",
    "\n",
    "\n",
    "for angle in range(0, 91, 9):\n",
    "    values = sincos(math.radians(angle))\n",
    "    print(f'kąt: {angle}\\t\\tsin: {values[0]:.16f}\\t\\tcos: {values[1]:.16f}')\n",
    "        "
   ]
  },
  {
   "cell_type": "markdown",
   "metadata": {
    "deletable": false,
    "editable": false,
    "nbgrader": {
     "cell_type": "markdown",
     "checksum": "41070e7f92699a8b28d795de16e0f94e",
     "grade": false,
     "grade_id": "cell-b1761b0051009272",
     "locked": true,
     "schema_version": 3,
     "solution": false,
     "task": false
    }
   },
   "source": [
    "## Zbiory\n",
    "\n",
    "- Zbiór jest nieuporządkowaną kolekcją nie zawierającą duplikatów.\n",
    "- Zbiór to nowy typ zmiennych: `set`. \n",
    "- Przy pomocy operatorów `in`, `not in` można testować przynależność elementu do zbioru\n",
    "- Zbiory umożliwiają wykonywanie takich operacji jak: suma, przecięcie, różnica oraz różnica symetryczna.\n",
    "\n",
    "\n",
    "### Tworzenie zbiorów. Funkcja `set()`, użycie `{}`. \n",
    "Aby utworzyć zbiór należy użyć nawiasów `{}` lub funkcji `set()` z argumentem bedącym obiektem iterowalnym.\n",
    "Aby utworzyć zbiór pusty należy użyć funkcji `set()` bez argumentów, a nie nawiasów `{}`(konstrukcja `{}` tworzy pusty słownik).\n",
    "\n",
    "\n",
    "#### Proste przykłady:"
   ]
  },
  {
   "cell_type": "code",
   "execution_count": 22,
   "metadata": {},
   "outputs": [
    {
     "name": "stdout",
     "output_type": "stream",
     "text": [
      "<class 'set'>\n",
      "{1, 2, 3, 4, 5}\n",
      "True\n",
      "False\n"
     ]
    }
   ],
   "source": [
    "z = {1,2,3,4,5}  # tworzenie zbioru\n",
    "print(type(z))\n",
    "print(z)\n",
    "print(2 in z)  # spradzenie element jest w zbiorze\n",
    "print(0 in z)"
   ]
  },
  {
   "cell_type": "code",
   "execution_count": 23,
   "metadata": {},
   "outputs": [
    {
     "name": "stdout",
     "output_type": "stream",
     "text": [
      "[1, 2, 3, 1, 3, 5, 1]\n",
      "{1, 2, 3, 5}\n"
     ]
    }
   ],
   "source": [
    "p = [1,2,3,1,3,5,1]\n",
    "print(p)\n",
    "zp = set(p)  # tworzenie zbioru z listy\n",
    "print(zp)"
   ]
  },
  {
   "cell_type": "code",
   "execution_count": null,
   "metadata": {},
   "outputs": [],
   "source": [
    "zt = set('informatyka')  # tworzenie zbioru z tekstu\n",
    "zt"
   ]
  },
  {
   "cell_type": "code",
   "execution_count": null,
   "metadata": {},
   "outputs": [],
   "source": [
    "zp = set()  # tworzenie zbioru pustego\n",
    "print(zp)\n",
    "print(type(zp))"
   ]
  },
  {
   "cell_type": "markdown",
   "metadata": {
    "deletable": false,
    "editable": false,
    "nbgrader": {
     "cell_type": "markdown",
     "checksum": "aae360c86df9bb4b568073a9716d2e54",
     "grade": false,
     "grade_id": "cell-1b7e3d80b9d28ada",
     "locked": true,
     "schema_version": 3,
     "solution": false
    }
   },
   "source": [
    "### Podstawowe operacje na zbiorach:\n",
    "\n",
    "- `|` - Suma zbiorów\n",
    "\n",
    "- `&` - Przecięcie zbiorów\n",
    "\n",
    "- `-` - Różnica zbiorów\n",
    "\n",
    "- `^` - Różnica symetryczna zbiorów"
   ]
  },
  {
   "cell_type": "code",
   "execution_count": 24,
   "metadata": {},
   "outputs": [
    {
     "name": "stdout",
     "output_type": "stream",
     "text": [
      "{'o', 'k', 'm', 'y', 't', 'i', 'a', 'r', 'n', 'f'} {'k', 'y', 'i', 'a', 'z', 'f'}\n",
      "{'o', 'k', 'm', 'y', 'z', 't', 'i', 'a', 'r', 'n', 'f'}\n",
      "{'k', 'y', 'a', 'i', 'f'}\n",
      "{'o', 'm', 't', 'r', 'n'}\n",
      "{'z'}\n",
      "{'o', 'm', 't', 'z', 'n', 'r'}\n"
     ]
    }
   ],
   "source": [
    "a = set('informatyka')\n",
    "b = set('fizyka')\n",
    "print(a, b)\n",
    "print(a | b)\n",
    "print(a & b)\n",
    "print(a - b)\n",
    "print(b - a)\n",
    "print(a ^ b)"
   ]
  },
  {
   "cell_type": "markdown",
   "metadata": {
    "deletable": false,
    "editable": false,
    "nbgrader": {
     "cell_type": "markdown",
     "checksum": "ecc57743deb7061df7a854044d7e773a",
     "grade": false,
     "grade_id": "cell-0c2143825a18c9a3",
     "locked": true,
     "schema_version": 3,
     "solution": false
    }
   },
   "source": [
    "### Kopiowanie zbiorów\n",
    "Kopiowanie zbiorów odbywa sie poprzez referencje (tak jak w listach). Aby skopiować zbiór tworząc nowy obiekt należy użyć metody `copy()` klasy `set`."
   ]
  },
  {
   "cell_type": "code",
   "execution_count": 26,
   "metadata": {},
   "outputs": [
    {
     "name": "stdout",
     "output_type": "stream",
     "text": [
      "{1, 2, 3, 4, 5}\n",
      "126030116534560 126030116534560\n"
     ]
    }
   ],
   "source": [
    "z = {1,2,3,4,5} \n",
    "p = z\n",
    "print(p)\n",
    "print(id(z),id(p))"
   ]
  },
  {
   "cell_type": "code",
   "execution_count": 25,
   "metadata": {},
   "outputs": [
    {
     "name": "stdout",
     "output_type": "stream",
     "text": [
      "{1, 2, 3, 4, 5}\n",
      "126030116533664 126030116526496\n"
     ]
    }
   ],
   "source": [
    "z = {1,2,3,4,5} \n",
    "q = z.copy()\n",
    "print(q)\n",
    "print(id(z),id(q))"
   ]
  },
  {
   "cell_type": "markdown",
   "metadata": {
    "deletable": false,
    "editable": false,
    "nbgrader": {
     "cell_type": "markdown",
     "checksum": "340d95ed47a17ad945e9346445d72aa6",
     "grade": false,
     "grade_id": "cell-a77ac242a1ac03c0",
     "locked": true,
     "schema_version": 3,
     "solution": false
    }
   },
   "source": [
    "### Metody wbudowane dla zbiorów.\n",
    "\n",
    "Metody dla zbiorów:\n",
    "https://docs.python.org/3/library/stdtypes.html#set\n",
    "\n",
    "Wybrane metody do użycia:\n",
    "- `add(elem)` - dodaje element `elem` do zbioru.\n",
    "- `remove(elem)` - usuwa element `elem` ze zbioru. Jeżeli elementu nie ma błąd ` KeyError`.\n",
    "- `discard(elem)` - usuwa element `elem` ze zbioru jeżeli w nim jest.\n",
    "- `pop()` - usuwa i zwraca dowolny element ze zbioru.\n",
    "- `clear()` - usuwa wszystkie elementy.\n",
    "- `issubset(z)` - sprawdza czy dany zbiór jest podzbiorem zbioru `z`.\n",
    "- `issuperset(z)` - sprawdza czy dany zbiór zawiera zbiór `z`.\n",
    "\n",
    "__Uwaga!__ Wiekszość metod dla zbiorów modyfikuje zbiór i zwraca `None`."
   ]
  },
  {
   "cell_type": "code",
   "execution_count": null,
   "metadata": {},
   "outputs": [],
   "source": [
    "z = {1,2,3,4,5} \n",
    "z.add(6)  # dodaje element\n",
    "print(z)\n",
    "z.remove(1)  # usuwa element\n",
    "print(z)\n",
    "z.discard(1)  # usuwa element\n",
    "print(z)\n",
    "w = z.pop()  # usuwa i zwraca\n",
    "print(z,w)\n",
    "z.clear()\n",
    "print(z)"
   ]
  },
  {
   "cell_type": "code",
   "execution_count": null,
   "metadata": {},
   "outputs": [],
   "source": [
    "a = set('informatyka')\n",
    "b = set('format')\n",
    "print(a,b)\n",
    "print(b.issubset(a))\n",
    "print(a.issuperset(b))"
   ]
  },
  {
   "cell_type": "markdown",
   "metadata": {
    "deletable": false,
    "editable": false,
    "nbgrader": {
     "cell_type": "markdown",
     "checksum": "8c738a0e83bd26676a6bb73a0caf97c8",
     "grade": false,
     "grade_id": "cell-d72f0b41a79b0a91",
     "locked": true,
     "schema_version": 3,
     "solution": false
    }
   },
   "source": [
    "Do tworzenia zbioru można użyć konstrukcji typu: `set comprehension`."
   ]
  },
  {
   "cell_type": "code",
   "execution_count": null,
   "metadata": {},
   "outputs": [],
   "source": [
    "z = {i for i in 'informatyka' if i not in 'format'}\n",
    "print(z)"
   ]
  },
  {
   "cell_type": "markdown",
   "metadata": {
    "deletable": false,
    "editable": false,
    "nbgrader": {
     "cell_type": "markdown",
     "checksum": "9a8a3aa73d797e625f7ae08953b28284",
     "grade": false,
     "grade_id": "cell-7a98ba2a975b8d69",
     "locked": true,
     "schema_version": 3,
     "solution": false
    }
   },
   "source": [
    "### Ćwiczenie 2\n",
    "Używając zbiorów sprawdź, czy wszystkie litery słowa `slowo` znajdują się w tekście `tekst`."
   ]
  },
  {
   "cell_type": "code",
   "execution_count": 29,
   "metadata": {
    "deletable": false,
    "nbgrader": {
     "cell_type": "code",
     "checksum": "438f7a7defab062e130532b996c20c89",
     "grade": false,
     "grade_id": "cell-9b7d748058dddf78",
     "locked": false,
     "schema_version": 3,
     "solution": true
    }
   },
   "outputs": [
    {
     "name": "stdout",
     "output_type": "stream",
     "text": [
      "Wszystkie litery słowa znajdują się w tekście\n"
     ]
    }
   ],
   "source": [
    "slowo = 'ponaddwustudziewięćdziesięciodziewięciokilometrowy'\n",
    "\n",
    "tekst = \"\"\"Najdłuższym polskim słowem mającym dokładnie jedną samogłoskę (czyli jednosylabowym) jest “chrząszcz” (9 liter), choć ma tylko 5 głosek.\n",
    "W innych słowiańskich językach można stworzyć słowa w ogóle bez samogłosek np. sk:vlk czy hr:krk. To drugie znamy też z nazwy słoweńskiej firmy farmaceutycznej: Krka.\n",
    "Najbardziej bezwzględnym słowem dla samogłosek jest właśnie słowo “beZWZGLędny”, bo ma aż pięć spółgłosek obok siebie.\"\"\"\n",
    "\n",
    "\n",
    "litery = set(slowo)\n",
    "litery_tekst = set(tekst)\n",
    "\n",
    "if litery.issubset(litery_tekst):\n",
    "    print(\"Wszystkie litery słowa znajdują się w tekście\")\n"
   ]
  },
  {
   "cell_type": "markdown",
   "metadata": {
    "deletable": false,
    "editable": false,
    "nbgrader": {
     "cell_type": "markdown",
     "checksum": "717c6ac91437fcdb16a052351737eea8",
     "grade": false,
     "grade_id": "cell-fd0d4492c3c1bfdb",
     "locked": true,
     "schema_version": 3,
     "solution": false
    }
   },
   "source": [
    "## Słowniki\n",
    "\n",
    "- Słownik to nowy typ zmiennych: `dict`. Jest obiektem mapującym tzn. służy mapowaniu nazw na obiekty (tablica asocjacyjna).\n",
    "- Słownik można traktować jako nieuporządkowany zbiór par `klucz:wartość`, z założeniem, że klucze są unikalne (w jednym słowniku).\n",
    "- Słowniki indeksowane są kluczami co oznacza, że do elementów słownika odwołujemy się poprzez klucze. Klucze mogą być obiektami dowolnego, niemutowalnego typu (napisy, liczby, tuple). \n",
    "- Para nawiasów klamrowych tworzy pusty słownik: `{}`.\n",
    "- Umieszczenie listy par `klucz:wartość`, oddzielonych przecinkami w nawiasach `{}` dodaje początkowe pary `klucz:wartość` do słownika.\n",
    "\n",
    "#### Proste przykłady:"
   ]
  },
  {
   "cell_type": "code",
   "execution_count": null,
   "metadata": {},
   "outputs": [],
   "source": [
    "d = {'imie': 'Karol', 'nazwisko': 'Górski'}  # tworzenie słownika\n",
    "print(d)\n",
    "type(d)"
   ]
  },
  {
   "cell_type": "code",
   "execution_count": null,
   "metadata": {},
   "outputs": [],
   "source": [
    "d['imie']  # odwołanie do elementu słownika poprzez klucz"
   ]
  },
  {
   "cell_type": "code",
   "execution_count": null,
   "metadata": {},
   "outputs": [],
   "source": [
    "b = {}  # tworzenie pustego słownika\n",
    "type(d)"
   ]
  },
  {
   "cell_type": "markdown",
   "metadata": {
    "deletable": false,
    "editable": false,
    "nbgrader": {
     "cell_type": "markdown",
     "checksum": "2f037e5f6bbf4279b3c76e9e456975b9",
     "grade": false,
     "grade_id": "cell-f4d0ccd23d94ef9e",
     "locked": true,
     "schema_version": 3,
     "solution": false
    }
   },
   "source": [
    "Klucze słownika mogą mieć postać list wartości oddzielonych przecinkami (krotki)."
   ]
  },
  {
   "cell_type": "code",
   "execution_count": null,
   "metadata": {},
   "outputs": [],
   "source": [
    "b = {} \n",
    "b[0,1,2] = 'jeden'\n",
    "b[1,2,3] = 'dwa'\n",
    "b"
   ]
  },
  {
   "cell_type": "markdown",
   "metadata": {
    "deletable": false,
    "editable": false,
    "nbgrader": {
     "cell_type": "markdown",
     "checksum": "cf244fad43c6a3063eacf23a71c52e04",
     "grade": false,
     "grade_id": "cell-f3460ad886ced470",
     "locked": true,
     "schema_version": 3,
     "solution": false
    }
   },
   "source": [
    "### Podstawowe operacje na słownikach.\n",
    "\n",
    "Głównymi operacjami na słownikach są:\n",
    "\n",
    "- Dodawanie wartości z jakimś kluczem.\n",
    "- Pobieranie wartości opatrzonej podanym kluczem.\n",
    "- Usuwanie pary `klucz:wartość` za pomoca instrukcji `del`.\n",
    "- `len()` Zwraca liczbę elementów w słowniku."
   ]
  },
  {
   "cell_type": "code",
   "execution_count": null,
   "metadata": {},
   "outputs": [],
   "source": [
    "d = {'imie': 'Karol', 'nazwisko': 'Górski'}\n",
    "d['wiek'] = 22  # dodanie nowego pola - wartość z kluczem\n",
    "print(d)"
   ]
  },
  {
   "cell_type": "code",
   "execution_count": null,
   "metadata": {},
   "outputs": [],
   "source": [
    "print(d['imie'])  # odwołanie do elementu przez klucz"
   ]
  },
  {
   "cell_type": "code",
   "execution_count": null,
   "metadata": {},
   "outputs": [],
   "source": [
    "d['imie'] = 'Paweł'  #zmiana wartości dla istniejącego klucza - poprzednia wartość zapominana\n",
    "print(d['imie'])"
   ]
  },
  {
   "cell_type": "code",
   "execution_count": null,
   "metadata": {},
   "outputs": [],
   "source": [
    "del d['wiek']  # usunięcie klucza wiek (z wartością)\n",
    "d"
   ]
  },
  {
   "cell_type": "code",
   "execution_count": null,
   "metadata": {},
   "outputs": [],
   "source": [
    "print(len(d))  # liczba elementów (par klucz:wartość)"
   ]
  },
  {
   "cell_type": "markdown",
   "metadata": {
    "deletable": false,
    "editable": false,
    "nbgrader": {
     "cell_type": "markdown",
     "checksum": "38538682df385546dd2793f6177176e0",
     "grade": false,
     "grade_id": "cell-2f3a009ecf820c1e",
     "locked": true,
     "schema_version": 3,
     "solution": false
    }
   },
   "source": [
    "Próba pozyskania wartości spod klucza, który nie istnieje w słowniku - błąd klucza!"
   ]
  },
  {
   "cell_type": "code",
   "execution_count": null,
   "metadata": {},
   "outputs": [],
   "source": [
    "d['wiek']"
   ]
  },
  {
   "cell_type": "markdown",
   "metadata": {
    "deletable": false,
    "editable": false,
    "nbgrader": {
     "cell_type": "markdown",
     "checksum": "17322435d54b7840107e7bf21bfbd13d",
     "grade": false,
     "grade_id": "cell-280c218d883f4742",
     "locked": true,
     "schema_version": 3,
     "solution": false
    }
   },
   "source": [
    "### Kopiowanie słowników.\n",
    "Kopiowanie słowników odbywa się poprzez referencje. Aby skopiować słownik tworząc nowy obiekt należy użyć\n",
    "metody `copy()` klasy `dict`."
   ]
  },
  {
   "cell_type": "code",
   "execution_count": 30,
   "metadata": {},
   "outputs": [
    {
     "name": "stdout",
     "output_type": "stream",
     "text": [
      "{'imie': 'Karol', 'nazwisko': 'Górski'}\n",
      "126030115328192 126030115328192\n"
     ]
    }
   ],
   "source": [
    "d = {'imie': 'Karol', 'nazwisko': 'Górski'}\n",
    "s = d  # referencja\n",
    "print(s)\n",
    "print(id(d), id(s))"
   ]
  },
  {
   "cell_type": "code",
   "execution_count": 31,
   "metadata": {},
   "outputs": [
    {
     "name": "stdout",
     "output_type": "stream",
     "text": [
      "{'imie': 'Karol', 'nazwisko': 'Górski'}\n",
      "126030115336576 126030115255936\n"
     ]
    }
   ],
   "source": [
    "d = {'imie': 'Karol', 'nazwisko': 'Górski'}\n",
    "r = d.copy()  # kopia\n",
    "print(r)\n",
    "print(id(d), id(r))"
   ]
  },
  {
   "cell_type": "markdown",
   "metadata": {
    "deletable": false,
    "editable": false,
    "nbgrader": {
     "cell_type": "markdown",
     "checksum": "252769c1e3f1395f67d2e9614fc0aa11",
     "grade": false,
     "grade_id": "cell-57d8519c83de35df",
     "locked": true,
     "schema_version": 3,
     "solution": false
    }
   },
   "source": [
    "### Metody wbudowane dla słowników.\n",
    "\n",
    "Metody dla słowników:\n",
    "https://docs.python.org/3/library/stdtypes.html#dict\n",
    "\n",
    "Wybrane metody do użycia:\n",
    "- `keys()` - zwraca listę kluczy w słowniku.\n",
    "- `values()` - zwraca listę wartości w słowniku.\n",
    "- `items()` - zwraca listę par `(klucz,wartość)`.\n",
    "- `update(s)` - dodaje do słownika wszystkie elementy ze słownika s.\n",
    "- `pop(klucz)` - usuwa wskazany `klucz` ze słownika i zwraca przypisaną mu wartość.\n",
    "- `popitem()` - usuwa parę `(klucz,wartość)` i zwraca ją w postaci tupli (iteracyjne usuwanie zawartości słownika). Pary są zwracane w kolejności LIFO.\n",
    "- `clear()` - usuwa wszystkie elementy słownika."
   ]
  },
  {
   "cell_type": "code",
   "execution_count": null,
   "metadata": {},
   "outputs": [],
   "source": [
    "d = {'imie': 'Karol', 'nazwisko': 'Górski', 'wiek': 22}\n",
    "print('1) ',d.keys())\n",
    "print('2) ',d.values())\n",
    "print('3) ',d.items())"
   ]
  },
  {
   "cell_type": "code",
   "execution_count": null,
   "metadata": {},
   "outputs": [],
   "source": [
    "d = {'imie': 'Karol', 'nazwisko': 'Górski', 'wiek': 22}\n",
    "s = {'miejscowość': 'Kraków', 'kod pocztowy': '31-876'}\n",
    "d.update(s)\n",
    "print(d)\n",
    "print(d.pop('kod pocztowy'))\n",
    "print(d)\n",
    "print(d.popitem())\n",
    "print(d)\n",
    "d.clear()\n",
    "d"
   ]
  },
  {
   "cell_type": "markdown",
   "metadata": {
    "deletable": false,
    "editable": false,
    "nbgrader": {
     "cell_type": "markdown",
     "checksum": "eee6bda1c54d94366226cf33c0e1d5e0",
     "grade": false,
     "grade_id": "cell-b63b6ae0e8bf310e",
     "locked": true,
     "schema_version": 3,
     "solution": false
    }
   },
   "source": [
    "#### Przeglądanie słowników."
   ]
  },
  {
   "cell_type": "code",
   "execution_count": null,
   "metadata": {},
   "outputs": [],
   "source": [
    "d = {'imie': 'Karol', 'nazwisko': 'Górski', 'wiek': 22}\n",
    "for key in d.keys():\n",
    "    print(key, end = ', ')"
   ]
  },
  {
   "cell_type": "code",
   "execution_count": null,
   "metadata": {},
   "outputs": [],
   "source": [
    "# iterowanie po kluczach jest równoważne z iterowaniem po słowniku\n",
    "for el in d:\n",
    "    print(el, end = ', ')"
   ]
  },
  {
   "cell_type": "code",
   "execution_count": null,
   "metadata": {},
   "outputs": [],
   "source": [
    "for values in d.values():\n",
    "    print(values, end = ', ')"
   ]
  },
  {
   "cell_type": "code",
   "execution_count": null,
   "metadata": {},
   "outputs": [],
   "source": [
    "for item in d.items():\n",
    "    print(item, end = ', ')"
   ]
  },
  {
   "cell_type": "code",
   "execution_count": null,
   "metadata": {},
   "outputs": [],
   "source": [
    "for key, values in d.items():\n",
    "    print(key, values)"
   ]
  },
  {
   "cell_type": "markdown",
   "metadata": {
    "deletable": false,
    "editable": false,
    "nbgrader": {
     "cell_type": "markdown",
     "checksum": "b5cf309870a0c0c3df5abea35a0371a9",
     "grade": false,
     "grade_id": "cell-6d70495c386426e5",
     "locked": true,
     "schema_version": 3,
     "solution": false
    }
   },
   "source": [
    "### Operatory `in`, `not in`.\n",
    "\n",
    "Sprawdzenie czy klucz znajduje się w słowniku."
   ]
  },
  {
   "cell_type": "code",
   "execution_count": null,
   "metadata": {},
   "outputs": [],
   "source": [
    "d = {'imie': 'Karol', 'nazwisko': 'Górski'}\n",
    "'imie' in d"
   ]
  },
  {
   "cell_type": "markdown",
   "metadata": {
    "deletable": false,
    "editable": false,
    "nbgrader": {
     "cell_type": "markdown",
     "checksum": "cc6bac661e3cf4d8271b0fb8f066f0ee",
     "grade": false,
     "grade_id": "cell-25e054e5172f6847",
     "locked": true,
     "schema_version": 3,
     "solution": false
    }
   },
   "source": [
    "Sprawdzenie czy wartość znajduje się w słowniku."
   ]
  },
  {
   "cell_type": "code",
   "execution_count": null,
   "metadata": {},
   "outputs": [],
   "source": [
    "print(d.values())\n",
    "'Michał' in d.values()"
   ]
  },
  {
   "cell_type": "markdown",
   "metadata": {
    "deletable": false,
    "editable": false,
    "nbgrader": {
     "cell_type": "markdown",
     "checksum": "55aa3988bcfe417392946a6b2287b42c",
     "grade": false,
     "grade_id": "cell-26b37861986bd9e7",
     "locked": true,
     "schema_version": 3,
     "solution": false,
     "task": false
    }
   },
   "source": [
    "Do tworzenia słownika można użyć konstrukcji typu: `dict comprehension`."
   ]
  },
  {
   "cell_type": "code",
   "execution_count": null,
   "metadata": {},
   "outputs": [],
   "source": [
    "s = {i : i**3 for i in (1, 2, 3)}\n",
    "print(s)\n",
    "s.get(4,'brak')"
   ]
  },
  {
   "cell_type": "markdown",
   "metadata": {
    "deletable": false,
    "editable": false,
    "nbgrader": {
     "cell_type": "markdown",
     "checksum": "cef5b273a126a44fe7500daeb356c68a",
     "grade": false,
     "grade_id": "cell-43d7d9d00155c5a9",
     "locked": true,
     "schema_version": 3,
     "solution": false
    }
   },
   "source": [
    "### Ćwiczenie 3\n",
    "Wykorzystując słownik jako licznik napisz program, który zliczy ile razy dana litera występuje w podanym słowie/tekście."
   ]
  },
  {
   "cell_type": "code",
   "execution_count": 1,
   "metadata": {
    "deletable": false,
    "nbgrader": {
     "cell_type": "code",
     "checksum": "b279c072eca9e15f0fccdb74e026ba77",
     "grade": false,
     "grade_id": "cell-0f9165c0147c65b0",
     "locked": false,
     "schema_version": 3,
     "solution": true
    }
   },
   "outputs": [
    {
     "name": "stdout",
     "output_type": "stream",
     "text": [
      "{'R': 1, 'i': 4, 'n': 5, 'd': 1, 'f': 2, 'l': 1, 'e': 9, 's': 5, 'c': 2, 'h': 2, 't': 5, 'k': 1, 'r': 4, 'u': 4, 'g': 6, 'ü': 2, 'b': 3, 'w': 1, 'a': 4, 'z': 1}\n"
     ]
    }
   ],
   "source": [
    "slowo = 'Rindfleischetikettierungsüberwachungsaufgabenübertragungsgesetz' \n",
    "#czyli “prawo do delegowania obowiązków dotyczących nadzoru znakowania bydła i etykietowania wołowiny” :)\n",
    "\n",
    "\n",
    "frequency = {}\n",
    "\n",
    "for char in slowo:\n",
    "    if char not in frequency:\n",
    "        frequency[char] = 1\n",
    "    else:\n",
    "        frequency[char] += 1\n",
    "\n",
    "\n",
    "print(frequency)"
   ]
  },
  {
   "cell_type": "markdown",
   "metadata": {
    "deletable": false,
    "editable": false,
    "nbgrader": {
     "cell_type": "markdown",
     "checksum": "350e2c0bad87b9fe244e6671a82252d3",
     "grade": false,
     "grade_id": "cell-781b6d931ec105a3",
     "locked": true,
     "schema_version": 3,
     "solution": false
    }
   },
   "source": [
    "### Ćwiczenie 4\n",
    "Wykorzystując słownik napisz translator tekstu na alfabet Mors'a.\n",
    "\n",
    "Szczegółowe informacje znajdziesz pod linkiem : http://alfabetmorsa.pl/\n",
    "\n",
    "Przetłumacz poniższy tekst. Załóżmy, że znakiem rozdzielającym słowa w alfabecie Morse'a jest znak `/`.\n",
    "\n",
    "Uwaga: dwa znaki powinny być rozdzielone spacją."
   ]
  },
  {
   "cell_type": "code",
   "execution_count": 13,
   "metadata": {
    "deletable": false,
    "nbgrader": {
     "cell_type": "code",
     "checksum": "31eaf7352adb452971f01fd73f0963aa",
     "grade": false,
     "grade_id": "cell-1469c5583f2ad090",
     "locked": false,
     "schema_version": 3,
     "solution": true
    }
   },
   "outputs": [
    {
     "name": "stdout",
     "output_type": "stream",
     "text": [
      "-- •- - • -- •- - -•-- -•- •- / •• / •• -• ••-• --- •-• -- •- - -•-- -•- •- / •--- • ••• - / ••• ••- •--• • •-• \n"
     ]
    }
   ],
   "source": [
    "litery = ['A','B','C','D','E','F','G','H','I','J','K','L','M','N','O','P','Q','R','S','T','U',\n",
    "          'V','W','X','Y','Z',' ']\n",
    "mors = ['•-','-•••','-•-•','-••','•','••-•','--•','••••','••','•---','-•-','•-••','--','-•',\n",
    "        '---','•--•','--•-','•-•','•••','-','••-','•••-','•--','-••-','-•--','--••','/']\n",
    "\n",
    "tekst = 'Matematyka i informatyka jest super'\n",
    "\n",
    "def text_to_mors(text):\n",
    "    t = { litery[i]: mors[i] for i in range(len(litery)) }\n",
    "\n",
    "    output = ''\n",
    "    for ch in text:\n",
    "        output += t[ch.upper()] + ' '\n",
    "\n",
    "    return output\n",
    "\n",
    "\n",
    "o = text_to_mors(tekst)\n",
    "print(o)"
   ]
  },
  {
   "cell_type": "markdown",
   "metadata": {
    "deletable": false,
    "editable": false,
    "nbgrader": {
     "cell_type": "markdown",
     "checksum": "efd8b6bde9c079bdbedd4b478179723b",
     "grade": false,
     "grade_id": "cell-8d4257a410dea81d",
     "locked": true,
     "schema_version": 3,
     "solution": false
    }
   },
   "source": [
    "## Zadanie 1\n",
    "\n",
    "Uzupełnij program z __Ćwiczenia 4__ w taki sposób, aby w tekście tłumaczone były również cyfry, polskie znaki diakrytyczne, znaki interpunkcyjne i symbole. Zaimplementuj obsługę błędu w przypadku nierozpoznania znaku."
   ]
  },
  {
   "cell_type": "code",
   "execution_count": 19,
   "metadata": {
    "deletable": false,
    "nbgrader": {
     "cell_type": "code",
     "checksum": "3e9c4acbe96b9c11c25eb36988086157",
     "grade": true,
     "grade_id": "cell-e3420a362604903a",
     "locked": false,
     "points": 1,
     "schema_version": 3,
     "solution": true
    }
   },
   "outputs": [
    {
     "name": "stdout",
     "output_type": "stream",
     "text": [
      "Nie rozpoznano znaku *!\n",
      "None\n"
     ]
    }
   ],
   "source": [
    "morse_code_dict = {\n",
    "    'A': '.-',    'B': '-...',  'C': '-.-.',  'D': '-..',\n",
    "    'E': '.',     'F': '..-.',  'G': '--.',   'H': '....',\n",
    "    'I': '..',    'J': '.---',  'K': '-.-',   'L': '.-..',\n",
    "    'M': '--',    'N': '-.',    'O': '---',   'P': '.--.',\n",
    "    'Q': '--.-',  'R': '.-.',   'S': '...',   'T': '-',\n",
    "    'U': '..-',   'V': '...-',  'W': '.--',   'X': '-..-',\n",
    "    'Y': '-.--',  'Z': '--..',\n",
    "    'Ą': '.-.-',  'Ć': '-.-..', 'Ę': '..-..', 'Ł': '.-..-',\n",
    "    'Ń': '--.--', 'Ó': '---.',  'Ś': '...-...', 'Ź': '--..-.',\n",
    "    'Ż': '--..-.',\n",
    "    '.': '.-.-.-', ',': '--..--', '?': '..--..', '!': '-.-.--',\n",
    "    ':': '---...', ';': '-.-.-.', '-': '-....-', '/': '-..-.',\n",
    "    '(': '-.--.',  ')': '-.--.-', '\"': '.-..-.', \"'\": '.----.',\n",
    "    '=': '-...-',  '+': '.-.-.',  '@': '.--.-.',\n",
    "    '0': '-----',  '1': '.----',  '2': '..---', '3': '...--',\n",
    "    '4': '....-',  '5': '.....',  '6': '-....', '7': '--...',\n",
    "    '8': '---..',  '9': '----.', ' ': '/'\n",
    "}\n",
    "\n",
    "def text_to_mors(text):\n",
    "    output = ''\n",
    "    for ch in text:\n",
    "        if ch.upper() not in morse_code_dict:\n",
    "            print(f\"Nie rozpoznano znaku {ch}!\")\n",
    "            return None\n",
    "        output += morse_code_dict[ch.upper()] + ' '\n",
    "\n",
    "    return output\n",
    "\n",
    "\n",
    "print(text_to_mors(\"Matematyka! i informatyka! jest? super 31\"))"
   ]
  },
  {
   "cell_type": "markdown",
   "metadata": {
    "deletable": false,
    "editable": false,
    "nbgrader": {
     "cell_type": "markdown",
     "checksum": "0da9386cd4eda11158f8822cd3af1e2d",
     "grade": false,
     "grade_id": "cell-fea69fb6589610c6",
     "locked": true,
     "schema_version": 3,
     "solution": false
    }
   },
   "source": [
    "## Zadanie 2\n",
    "\n",
    "Wykorzystując słownik napisz translator alfabetu Morse'a na tekst. Przetłumacz poniższy tekst. Załóż, że znakiem rozdzielającym słowa w alfabecie Morse'a jest znak `/`. Zaimplementuj obsługę błędu w przypadku nierozpoznania znaku."
   ]
  },
  {
   "cell_type": "code",
   "execution_count": 25,
   "metadata": {
    "deletable": false,
    "nbgrader": {
     "cell_type": "code",
     "checksum": "1e80b0366b67146e0307ce4ce996f272",
     "grade": true,
     "grade_id": "cell-9b479090231475a8",
     "locked": false,
     "points": 1,
     "schema_version": 3,
     "solution": true
    }
   },
   "outputs": [
    {
     "name": "stdout",
     "output_type": "stream",
     "text": [
      "M A T E M A T Y K A   I   I N F O R M A T Y K A   S Ą   S U P E R \n"
     ]
    }
   ],
   "source": [
    "tekst = '-- .- - . -- .- - -.-- -.- .- / .. / .. -. ..-. --- .-. -- .- - -.-- -.- .- / ... .-.- / ... ..- .--. . .-. -.-.--'\n",
    "\n",
    "text_to_morse_dict = { value: key for key, value in morse_code_dict.items() }\n",
    "def text_to_morse(text):\n",
    "    output = ''\n",
    "    morse_code = ''\n",
    "    for ch in text:\n",
    "        if ch == \" \":\n",
    "            output += text_to_morse_dict[morse_code] + \" \"\n",
    "            morse_code = \"\"\n",
    "        else:\n",
    "            morse_code += ch\n",
    "    return output\n",
    "\n",
    "print(text_to_morse(tekst))"
   ]
  },
  {
   "cell_type": "markdown",
   "metadata": {
    "deletable": false,
    "editable": false,
    "nbgrader": {
     "cell_type": "markdown",
     "checksum": "33616a1d8a5bc34203ac2f1aa132cd83",
     "grade": false,
     "grade_id": "cell-43e02728c4710d75",
     "locked": true,
     "schema_version": 3,
     "solution": false
    }
   },
   "source": [
    "## Zadanie 3\n",
    "\n",
    "Napisz funkcję przyjmującą dwa argumenty, zwracającą parę/krotkę: drugi argument oraz sumę obu argumentów. Wykorzystaj tę funkcję do napisania funkcji zwracającej zadany wyraz ciągu Fibonacciego. \n",
    "\n",
    "https://pl.wikipedia.org/wiki/Ci%C4%85g_Fibonacciego"
   ]
  },
  {
   "cell_type": "code",
   "execution_count": 21,
   "metadata": {
    "deletable": false,
    "nbgrader": {
     "cell_type": "code",
     "checksum": "49ce80ab9ef0ba5018b66f1ae7337393",
     "grade": true,
     "grade_id": "cell-977c88527395b830",
     "locked": false,
     "points": 1,
     "schema_version": 3,
     "solution": true
    }
   },
   "outputs": [
    {
     "name": "stdout",
     "output_type": "stream",
     "text": [
      "4181\n"
     ]
    }
   ],
   "source": [
    "def sum(x, y):\n",
    "    return y, x + y\n",
    "\n",
    "def fibonacci(n):\n",
    "    prev, suma = sum(1, 1)\n",
    "    for _ in range(n - 2):\n",
    "        prev, suma = sum(prev, suma)\n",
    "\n",
    "    return prev\n",
    "\n",
    "\n",
    "print(fibonacci(19))"
   ]
  },
  {
   "cell_type": "markdown",
   "metadata": {
    "deletable": false,
    "editable": false,
    "nbgrader": {
     "cell_type": "markdown",
     "checksum": "27b698c4c583df45ced4a16695f4f3fe",
     "grade": false,
     "grade_id": "cell-0804a9e90b63cb34",
     "locked": true,
     "schema_version": 3,
     "solution": false,
     "task": false
    }
   },
   "source": [
    "## Zadanie 4\n",
    "\n",
    "Napisz funkcję 'rozmywającą' listę. Funkcja powinna jako argument przyjmować listę i wagi, utworzyć kopię przesłaniej listy, której każdy element (poza pierwszym i ostatnim) jest zamieniamy na średnią ważoną siebie oraz swoich bezpośrednich sąsiadów, z przesłanymi wagami (z oryginalnej listy wejściowej). Funkcja powinna zwrócić nową listę – przesłana jako argument nie powinna być modyfikowana.\n",
    "Utwórz listę 20 losowych liczb i zaprezentuj działanie powyższej funkcji.\n",
    "Przykładowe wywołania i wyniki:\n",
    "``` python\n",
    "print( fun4( [3, 1, 2, 0, 4], (1,1,1)) )\n",
    "```\n",
    "\n",
    "`[3, 2.0, 1.0, 2.0, 4]`\n",
    "\n",
    "```python\n",
    "print( fun4( [3, 1, 2, 0, 4], (2,-1,2)) )\n",
    "```\n",
    "\n",
    "`[3, 3.0, 0.0, 4.0, 4]`"
   ]
  },
  {
   "cell_type": "code",
   "execution_count": 33,
   "metadata": {
    "deletable": false,
    "nbgrader": {
     "cell_type": "code",
     "checksum": "4856f85f2bcf3fa3165b85db4648ec18",
     "grade": true,
     "grade_id": "cell-86ce006af56f966e",
     "locked": false,
     "points": 1,
     "schema_version": 3,
     "solution": true,
     "task": false
    },
    "scrolled": true
   },
   "outputs": [
    {
     "name": "stdout",
     "output_type": "stream",
     "text": [
      "[3, 3.0, 0.0, 4.0, 4]\n",
      "[18, 37, 42, 7, 29, 29, 33, 46, 0, 47, 30, 18, 33, 43, 30, 17, 37, 38, 14, 44]\n",
      "[18, 35.5, 29.5, 20.166666666666668, 25.333333333333332, 30.333333333333332, 36.666666666666664, 28.5, 23.333333333333332, 33.5, 28.833333333333332, 25.0, 33.833333333333336, 37.0, 27.833333333333332, 25.833333333333332, 34.0, 29.833333333333332, 28.0, 44]\n"
     ]
    }
   ],
   "source": [
    "import random\n",
    "\n",
    "\n",
    "def fun4(l: list, w: tuple):\n",
    "    new_l = l.copy()\n",
    "    for i in range(1, len(new_l) - 1):\n",
    "        new_l[i] = (l[i - 1] * w[0] + l[i] * w[1] + l[i + 1] * w[2]) / (w[0] + w[1] + w[2])\n",
    "\n",
    "    return new_l\n",
    "\n",
    "\n",
    "nums1 = [3, 1, 2, 0, 4]\n",
    "nums2 = [random.randint(0, 50) for _ in range(20)]\n",
    "\n",
    "print(fun4(nums1, (2, -1, 2)))\n",
    "print(nums2)\n",
    "print(fun4(nums2, (1, 3, 2)))\n"
   ]
  },
  {
   "cell_type": "markdown",
   "metadata": {
    "deletable": false,
    "editable": false,
    "nbgrader": {
     "cell_type": "markdown",
     "checksum": "3ba662b36ff9dd1314e5bec3d45782d5",
     "grade": false,
     "grade_id": "cell-05b44e82560dccc4",
     "locked": true,
     "schema_version": 3,
     "solution": false,
     "task": false
    }
   },
   "source": [
    "## Zadanie 5\n",
    "\n",
    "Utwórz słownik `imię=>ocena`, zawierający oceny czterech przykładowych osób. Napisz funkcję przyjmującą jako argument słownik, wypisującą listę osób w kolejności alfabetycznej. Napisz funkcję przyjmującą jako argument słownik, wypisującą listę osób wraz z ocenami w dowolnej kolejności."
   ]
  },
  {
   "cell_type": "code",
   "execution_count": 38,
   "metadata": {
    "deletable": false,
    "nbgrader": {
     "cell_type": "code",
     "checksum": "b96ba71641f06767cd86225b1704ab01",
     "grade": true,
     "grade_id": "cell-802ecb70d80dc053",
     "locked": false,
     "points": 1,
     "schema_version": 3,
     "solution": true,
     "task": false
    }
   },
   "outputs": [
    {
     "name": "stdout",
     "output_type": "stream",
     "text": [
      "Adam\n",
      "Bartek\n",
      "Kamil\n",
      "Marek\n",
      "\n",
      "Adam: 4.0\n",
      "Kamil: 4.0\n",
      "Marek: 4.5\n",
      "Bartek: 3.5\n"
     ]
    }
   ],
   "source": [
    "students = { \"Adam\": 4.0, \"Kamil\": 4.0, \"Marek\": 4.5, \"Bartek\": 3.5 }\n",
    "\n",
    "def print_students(students: dict):\n",
    "    for name in sorted(students.keys()):\n",
    "        print(name)\n",
    "\n",
    "def print_grades(students: dict):\n",
    "    for name, grade in students.items():\n",
    "        print(f\"{name}: {grade}\")\n",
    "\n",
    "\n",
    "print_students(students)\n",
    "print()\n",
    "print_grades(students)"
   ]
  },
  {
   "cell_type": "markdown",
   "metadata": {
    "deletable": false,
    "editable": false,
    "nbgrader": {
     "cell_type": "markdown",
     "checksum": "3d4d987291d24574c9076b998bcd6caf",
     "grade": false,
     "grade_id": "cell-649a9c0157cab4c5",
     "locked": true,
     "schema_version": 3,
     "solution": false,
     "task": false
    }
   },
   "source": [
    "## Zadanie 6\n",
    "\n",
    "Utwórz słownik słowników, `imię=>(kategoria=>ocena)`, przechowujący listę osób, oraz ocen z różnych kategorii (`kolokwium 1`, `odpowiedź ustna 2` itp). Napisz funkcję przyjmującą jako argument powyższy słownik, liczącą średnią arytmetyczną wszystkich ocen danej osoby, wypisującą listę osób których średnia ocen jest niższa od 3.0. Napisz funkcję wypisującą średnią ocen wszystkich osób z podanej kategorii (np. średnią ocen wszystkich osób za `python 1` itd.).\n"
   ]
  },
  {
   "cell_type": "code",
   "execution_count": 48,
   "metadata": {
    "deletable": false,
    "nbgrader": {
     "cell_type": "code",
     "checksum": "b099f15b6fddf42f0d18e40c1b2df792",
     "grade": true,
     "grade_id": "cell-79b1a8dc39c37fbd",
     "locked": false,
     "points": 1,
     "schema_version": 3,
     "solution": true,
     "task": false
    }
   },
   "outputs": [
    {
     "name": "stdout",
     "output_type": "stream",
     "text": [
      "['Paweł', 'Maria']\n"
     ]
    },
    {
     "data": {
      "text/plain": [
       "3.5"
      ]
     },
     "execution_count": 48,
     "metadata": {},
     "output_type": "execute_result"
    }
   ],
   "source": [
    "dict_rate = {\n",
    "    \"Adam\": { \"kolokwium 1\": 5, \"kolokwium 2\": 4.5,\"lisp 1\" : 5 },\n",
    "    \"Natalia\": { \"kolokwium 1\": 4, \"kolokwium 2\": 3.5, \"lisp 1\" : 2 },\n",
    "    \"Paweł\": { \"kolokwium 1\": 3, \"kolokwium 2\": 2, \"lisp 1\" : 2 },\n",
    "    \"Maria\": { \"kolokwium 1\": 2, \"kolokwium 2\": 2, \"lisp 1\": 3 }\n",
    "}\n",
    "\n",
    "\n",
    "def fun6_1(students: dict):\n",
    "    w = []\n",
    "    for name, grades in students.items():\n",
    "        s = 0\n",
    "        for category, grade in grades.items():\n",
    "            s += grade\n",
    "        s /= len(grades)\n",
    "        if s < 3.0:\n",
    "            w.append(name)\n",
    "    return w\n",
    "\n",
    "def fun6_2(students: dict, category: str):\n",
    "    s = 0\n",
    "    for name, grades in students.items():\n",
    "        s += grades[category]\n",
    "    return s / len(students)\n",
    "    \n",
    "        \n",
    "print(fun6_1(dict_rate))\n",
    "fun6_2(dict_rate, \"kolokwium 1\")\n",
    "\n"
   ]
  },
  {
   "cell_type": "markdown",
   "metadata": {
    "deletable": false,
    "editable": false,
    "nbgrader": {
     "cell_type": "markdown",
     "checksum": "ad48c86aa7cd648ee1b756fd2837119b",
     "grade": false,
     "grade_id": "cell-8cbc019fa4f0e4f7",
     "locked": true,
     "schema_version": 3,
     "solution": false,
     "task": false
    }
   },
   "source": [
    "## Zadanie 7\n",
    "\n",
    "Utwórz słownik `imię=>wiek`. Napisz funkcję przyjmującą jako argument słownik, zwracającą słownik `imię=>długość snu`, wyliczającą zalecaną dzienną długość snu dla każdej z osób w przesłanym słowniku:\n",
    "\n",
    "- Osoby powyżej 200 roku życia uznawane są za nieumarłych, którzy powinni udać się na sen wieczny,\n",
    "- Osoby z niedodatnim wiekiem powinny zostać pominięte,\n",
    "- Dla pozostałych:  dlugosc snu = 8h/log(10) (wiek w latach)\n",
    "\n",
    "$$długość\\ snu={\\frac{8\\ godzin}{log_{10}(wiek\\ w\\ latach)}}$$\n",
    "\n",
    "Powyższy wzór został zmyślony – proszę nie stosować się do niego :).\n",
    "\n",
    "Wykorzystaj mechanizm `dictionary comprehensions` oraz poniższy przykład:\n",
    "```python\n",
    "print(4 if True else 6)  # 4\n",
    "print(5 if False else 6) # 6\n",
    "\n",
    "slownik = {'a': 1, 'b': 2, 'c': 4, 'd': 1234,'e': -3}\n",
    "wynik = {'nowy_' + key: value if value > 0 else -value for key, value in slownik.items() if value < 10 }\n",
    "print(wynik)\n",
    "```\n",
    "`{'nowy_a': 1, 'nowy_b': 2, 'nowy_c': 4, 'nowy_e': 3}`\n",
    "\n",
    "Słownik `slownik` został wykorzystany do utworzenia nowego, którego klucze mają dopisany na początku tekst `nowy_`, złożony z wartości dodatnich ( `value if value > 0 else -value`), mniejszych niż 10 (`if value < 10`).\n",
    "\n"
   ]
  },
  {
   "cell_type": "code",
   "execution_count": 2,
   "metadata": {
    "deletable": false,
    "nbgrader": {
     "cell_type": "code",
     "checksum": "12fb7a98c63d1d0081320ce46deb8551",
     "grade": true,
     "grade_id": "cell-40019debf3e81e4f",
     "locked": false,
     "points": 1,
     "schema_version": 3,
     "solution": true,
     "task": false
    }
   },
   "outputs": [
    {
     "name": "stdout",
     "output_type": "stream",
     "text": [
      "{'Adam': 5.415939940230764, 'Natalia': 'wieczność', 'Maria': 5.874889084588445}\n"
     ]
    }
   ],
   "source": [
    "import math\n",
    "dict_age = { \"Adam\": 30,\"Natalia\": 204,\"Paweł\": -2,\"Maria\": 23 }\n",
    "\n",
    "\n",
    "def fun7(p):\n",
    "    return { name: 8/math.log10(age) if age < 200 else 'wieczność' for name, age in p.items() if age > 0}\n",
    "\n",
    "\n",
    "print(fun7(dict_age))"
   ]
  },
  {
   "cell_type": "markdown",
   "metadata": {
    "deletable": false,
    "editable": false,
    "nbgrader": {
     "cell_type": "markdown",
     "checksum": "cddfaedd1026b83c52912a3a281f7520",
     "grade": false,
     "grade_id": "cell-0563d4899b9418cc",
     "locked": true,
     "schema_version": 3,
     "solution": false,
     "task": false
    }
   },
   "source": [
    "## Zadanie 8\n",
    "\n",
    "Utwórz tablicę dwuwymiarową wielkości 10 na 10 elementów, wypełnij ją wartościami `False` oraz w losowych 20 miejscach wartościami `True` (upewnij się, że wylosowane pole nie ma wartości `True`). Napisz program pozwalający użytkownikowi wybrać element tablicy (użytkownik ma wpisać dwie liczby całkowite `x`,`y`),(współrzędna x określa położenie w poziomie a y w pionie). Wybrane współrzędne powinny zostać zapisane w pewnym zbiorze (`set`) jako krotka `(x, y)`. Jeśli użytkownik podał drugi raz te same współrzędne, powinna zostać wypisana informacja o tym (np. `\"Już tam strzelano\"`), a program powinien wrócić do wyboru współrzędnych. Jeśli podany element tablicy ma wartość `True`, wypisany powinien zostać tekst `\"Trafiony!\"`, w przeciwnym razie `\"Pudło!\"`. Program ma prosić o podanie współrzędnych do momentu zestrzelenia wszystkich wartości `True`.\n",
    "Aby dodać element do zbioru można wykorzystać operator `|` (pionowa kreska, OR) lub metodę `add`. Jak usunąć element ze zbioru? Jak uzyskać różnicę lub część wspólną (przecięcie, iloczyn) dwóch zbiorów?"
   ]
  },
  {
   "cell_type": "code",
   "execution_count": 13,
   "metadata": {
    "deletable": false,
    "nbgrader": {
     "cell_type": "code",
     "checksum": "9c8364571e959c73897bdba35f6f544d",
     "grade": true,
     "grade_id": "cell-b2b70a1aa7d62831",
     "locked": false,
     "points": 1,
     "schema_version": 3,
     "solution": true,
     "task": false
    }
   },
   "outputs": [
    {
     "name": "stdin",
     "output_type": "stream",
     "text": [
      "Podaj x:  9\n",
      "Podaj y:  2\n"
     ]
    },
    {
     "name": "stdout",
     "output_type": "stream",
     "text": [
      "Pudło!\n"
     ]
    },
    {
     "ename": "KeyboardInterrupt",
     "evalue": "Interrupted by user",
     "output_type": "error",
     "traceback": [
      "\u001b[0;31m---------------------------------------------------------------------------\u001b[0m",
      "\u001b[0;31mKeyboardInterrupt\u001b[0m                         Traceback (most recent call last)",
      "Cell \u001b[0;32mIn[13], line 16\u001b[0m\n\u001b[1;32m     14\u001b[0m hits \u001b[38;5;241m=\u001b[39m \u001b[38;5;241m0\u001b[39m\n\u001b[1;32m     15\u001b[0m \u001b[38;5;28;01mwhile\u001b[39;00m hits \u001b[38;5;241m<\u001b[39m \u001b[38;5;241m20\u001b[39m:\n\u001b[0;32m---> 16\u001b[0m     x \u001b[38;5;241m=\u001b[39m \u001b[38;5;28mint\u001b[39m(\u001b[38;5;28;43minput\u001b[39;49m\u001b[43m(\u001b[49m\u001b[38;5;124;43m\"\u001b[39;49m\u001b[38;5;124;43mPodaj x: \u001b[39;49m\u001b[38;5;124;43m\"\u001b[39;49m\u001b[43m)\u001b[49m)\n\u001b[1;32m     17\u001b[0m     y \u001b[38;5;241m=\u001b[39m \u001b[38;5;28mint\u001b[39m(\u001b[38;5;28minput\u001b[39m(\u001b[38;5;124m\"\u001b[39m\u001b[38;5;124mPodaj y: \u001b[39m\u001b[38;5;124m\"\u001b[39m))\n\u001b[1;32m     19\u001b[0m     \u001b[38;5;28;01mif\u001b[39;00m (x, y) \u001b[38;5;129;01mnot\u001b[39;00m \u001b[38;5;129;01min\u001b[39;00m coordinates:\n",
      "File \u001b[0;32m/usr/lib/python3.13/site-packages/ipykernel/kernelbase.py:1282\u001b[0m, in \u001b[0;36mKernel.raw_input\u001b[0;34m(self, prompt)\u001b[0m\n\u001b[1;32m   1280\u001b[0m     msg \u001b[38;5;241m=\u001b[39m \u001b[38;5;124m\"\u001b[39m\u001b[38;5;124mraw_input was called, but this frontend does not support input requests.\u001b[39m\u001b[38;5;124m\"\u001b[39m\n\u001b[1;32m   1281\u001b[0m     \u001b[38;5;28;01mraise\u001b[39;00m StdinNotImplementedError(msg)\n\u001b[0;32m-> 1282\u001b[0m \u001b[38;5;28;01mreturn\u001b[39;00m \u001b[38;5;28;43mself\u001b[39;49m\u001b[38;5;241;43m.\u001b[39;49m\u001b[43m_input_request\u001b[49m\u001b[43m(\u001b[49m\n\u001b[1;32m   1283\u001b[0m \u001b[43m    \u001b[49m\u001b[38;5;28;43mstr\u001b[39;49m\u001b[43m(\u001b[49m\u001b[43mprompt\u001b[49m\u001b[43m)\u001b[49m\u001b[43m,\u001b[49m\n\u001b[1;32m   1284\u001b[0m \u001b[43m    \u001b[49m\u001b[38;5;28;43mself\u001b[39;49m\u001b[38;5;241;43m.\u001b[39;49m\u001b[43m_parent_ident\u001b[49m\u001b[43m[\u001b[49m\u001b[38;5;124;43m\"\u001b[39;49m\u001b[38;5;124;43mshell\u001b[39;49m\u001b[38;5;124;43m\"\u001b[39;49m\u001b[43m]\u001b[49m\u001b[43m,\u001b[49m\n\u001b[1;32m   1285\u001b[0m \u001b[43m    \u001b[49m\u001b[38;5;28;43mself\u001b[39;49m\u001b[38;5;241;43m.\u001b[39;49m\u001b[43mget_parent\u001b[49m\u001b[43m(\u001b[49m\u001b[38;5;124;43m\"\u001b[39;49m\u001b[38;5;124;43mshell\u001b[39;49m\u001b[38;5;124;43m\"\u001b[39;49m\u001b[43m)\u001b[49m\u001b[43m,\u001b[49m\n\u001b[1;32m   1286\u001b[0m \u001b[43m    \u001b[49m\u001b[43mpassword\u001b[49m\u001b[38;5;241;43m=\u001b[39;49m\u001b[38;5;28;43;01mFalse\u001b[39;49;00m\u001b[43m,\u001b[49m\n\u001b[1;32m   1287\u001b[0m \u001b[43m\u001b[49m\u001b[43m)\u001b[49m\n",
      "File \u001b[0;32m/usr/lib/python3.13/site-packages/ipykernel/kernelbase.py:1325\u001b[0m, in \u001b[0;36mKernel._input_request\u001b[0;34m(self, prompt, ident, parent, password)\u001b[0m\n\u001b[1;32m   1322\u001b[0m \u001b[38;5;28;01mexcept\u001b[39;00m \u001b[38;5;167;01mKeyboardInterrupt\u001b[39;00m:\n\u001b[1;32m   1323\u001b[0m     \u001b[38;5;66;03m# re-raise KeyboardInterrupt, to truncate traceback\u001b[39;00m\n\u001b[1;32m   1324\u001b[0m     msg \u001b[38;5;241m=\u001b[39m \u001b[38;5;124m\"\u001b[39m\u001b[38;5;124mInterrupted by user\u001b[39m\u001b[38;5;124m\"\u001b[39m\n\u001b[0;32m-> 1325\u001b[0m     \u001b[38;5;28;01mraise\u001b[39;00m \u001b[38;5;167;01mKeyboardInterrupt\u001b[39;00m(msg) \u001b[38;5;28;01mfrom\u001b[39;00m\u001b[38;5;250m \u001b[39m\u001b[38;5;28;01mNone\u001b[39;00m\n\u001b[1;32m   1326\u001b[0m \u001b[38;5;28;01mexcept\u001b[39;00m \u001b[38;5;167;01mException\u001b[39;00m:\n\u001b[1;32m   1327\u001b[0m     \u001b[38;5;28mself\u001b[39m\u001b[38;5;241m.\u001b[39mlog\u001b[38;5;241m.\u001b[39mwarning(\u001b[38;5;124m\"\u001b[39m\u001b[38;5;124mInvalid Message:\u001b[39m\u001b[38;5;124m\"\u001b[39m, exc_info\u001b[38;5;241m=\u001b[39m\u001b[38;5;28;01mTrue\u001b[39;00m)\n",
      "\u001b[0;31mKeyboardInterrupt\u001b[0m: Interrupted by user"
     ]
    }
   ],
   "source": [
    "import random\n",
    "\n",
    "array = [ [False for _ in range(10) ] for _ in range(10)  ]\n",
    "\n",
    "changed = 0\n",
    "while changed < 20:\n",
    "    indices = random.randint(0, 9), random.randint(0, 9)\n",
    "    if not array[indices[0]][indices[1]]:\n",
    "        array[indices[0]][indices[1]] = True\n",
    "        changed += 1\n",
    "\n",
    "\n",
    "coordinates = set()\n",
    "hits = 0\n",
    "while hits < 20:\n",
    "    x = int(input(\"Podaj x: \"))\n",
    "    y = int(input(\"Podaj y: \"))\n",
    "    \n",
    "    if (x, y) not in coordinates:\n",
    "        coordinates.add((x, y))\n",
    "        if array[x][y]:\n",
    "            print(\"Trafiony!\")\n",
    "            hits += 1\n",
    "        else:\n",
    "            print(\"Pudło!\")\n",
    "    else:\n",
    "        print(\"Już tam strzelano\")"
   ]
  },
  {
   "cell_type": "code",
   "execution_count": null,
   "metadata": {},
   "outputs": [],
   "source": []
  }
 ],
 "metadata": {
  "kernelspec": {
   "display_name": "Python 3 (ipykernel)",
   "language": "python",
   "name": "python3"
  },
  "language_info": {
   "codemirror_mode": {
    "name": "ipython",
    "version": 3
   },
   "file_extension": ".py",
   "mimetype": "text/x-python",
   "name": "python",
   "nbconvert_exporter": "python",
   "pygments_lexer": "ipython3",
   "version": "3.13.2"
  }
 },
 "nbformat": 4,
 "nbformat_minor": 4
}
